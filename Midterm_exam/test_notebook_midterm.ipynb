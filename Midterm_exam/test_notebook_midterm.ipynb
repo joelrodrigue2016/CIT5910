{
 "cells": [
  {
   "cell_type": "code",
   "execution_count": 69,
   "outputs": [
    {
     "name": "stdout",
     "output_type": "stream",
     "text": [
      "{'food': 5.0, 'rent': 825.0, 'clothes': 45.0, 'entertainment': 10.0}\n",
      "{'food': 5.0, 'rent': 825.0, 'clothes': 45.0, 'entertainment': 10.0, 'music': 324.0}\n"
     ]
    }
   ],
   "source": [
    "def import_expenses(expenses, file):\n",
    "      file1 = open(file, \"r\")\n",
    "      for line in file1:\n",
    "         line = line.strip()\n",
    "         type = line.split(\":\")\n",
    "         if len(type) <2 or not type[1].strip().isdigit():\n",
    "            continue\n",
    "         else:\n",
    "           if type[0] in expenses:\n",
    "               expenses[type[0]]+=float(type[1])\n",
    "           else:\n",
    "               expenses[type[0]] = float(type[1])\n",
    "      print(expenses)\n",
    "\n",
    "\n",
    "expenses = {}\n",
    "import_expenses(expenses, 'expenses.txt')\n",
    "import_expenses(expenses, 'expenses_2.txt')"
   ],
   "metadata": {
    "collapsed": false
   }
  },
  {
   "cell_type": "code",
   "execution_count": 62,
   "outputs": [],
   "source": [],
   "metadata": {
    "collapsed": false
   }
  },
  {
   "cell_type": "code",
   "execution_count": 55,
   "outputs": [],
   "source": [],
   "metadata": {
    "collapsed": false
   }
  }
 ],
 "metadata": {
  "kernelspec": {
   "display_name": "Python 3",
   "language": "python",
   "name": "python3"
  },
  "language_info": {
   "codemirror_mode": {
    "name": "ipython",
    "version": 2
   },
   "file_extension": ".py",
   "mimetype": "text/x-python",
   "name": "python",
   "nbconvert_exporter": "python",
   "pygments_lexer": "ipython2",
   "version": "2.7.6"
  }
 },
 "nbformat": 4,
 "nbformat_minor": 0
}
