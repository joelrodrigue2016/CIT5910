{
 "cells": [
  {
   "cell_type": "markdown",
   "metadata": {
    "deletable": false,
    "editable": false,
    "nbgrader": {
     "checksum": "fc6b5acf0e21e69b7df820576adb6150",
     "grade": false,
     "grade_id": "cell-cd5c4f4f4f41858d",
     "locked": true,
     "schema_version": 1,
     "solution": false
    }
   },
   "source": [
    "# Data Analysis - Celebrity Deaths in 2016\n",
    "\n",
    "Source: [Wikipedia - Deaths in 2016](https://en.wikipedia.org/wiki/Deaths_in_2016)\n",
    "\n",
    "#### Structure of dataset:\n",
    "- File: \"celebrity_deaths_2016.xlsx\"\n",
    "- Contains 2 sheets:\n",
    " - \"celeb_death\": contains records of deaths of famous humans and non-humans\n",
    " - \"cause_of_death\": contains the causes of the deaths (you'll need to merge it with the \"celeb_death\" sheet)\n",
    "\n",
    "#### Other information about the dataset:\n",
    "- The cause of death was not reported for all individuals\n",
    "- The dataset might include deaths that took place in other years (you'll need to ignore these records)\n",
    "- The dataset might contain duplicate records (you'll need to remove them)\n",
    "\n",
    "#### The goals of the exercise:\n",
    "- Load, merge, and clean the data\n",
    "- Explore the data and answer some simple questions\n",
    "- Run some basic analysis\n",
    "- Visualize your results"
   ]
  },
  {
   "cell_type": "code",
   "execution_count": 5,
   "metadata": {
    "deletable": false,
    "editable": false,
    "nbgrader": {
     "checksum": "ea1efae506cdd55cf17b583f99897ab7",
     "grade": true,
     "grade_id": "init_test",
     "locked": true,
     "points": 0,
     "schema_version": 1,
     "solution": false
    }
   },
   "outputs": [],
   "source": [
    "%%capture\n",
    "###########################################################\n",
    "### EXECUTE THIS CELL BEFORE YOU TO TEST YOUR SOLUTIONS ###\n",
    "###########################################################\n",
    "import imp, os, sys\n",
    "import importlib\n",
    "sol = imp.load_compiled(\"sol\", \"./sol.py\")\n",
    "from nose.tools import assert_equal\n",
    "from pandas.util.testing import assert_frame_equal, assert_series_equal"
   ]
  },
  {
   "cell_type": "code",
   "execution_count": 6,
   "metadata": {
    "deletable": false,
    "editable": false,
    "nbgrader": {
     "checksum": "bd73f502262c669afb131b99adf77c1f",
     "grade": true,
     "grade_id": "init_user",
     "locked": true,
     "points": 0,
     "schema_version": 1,
     "solution": false
    }
   },
   "outputs": [],
   "source": [
    "\"\"\"\n",
    "We're providing most of the import statements you need for the entire exercise\n",
    "\"\"\"\n",
    "\n",
    "import pandas as pd\n",
    "import matplotlib.pyplot as plt \n",
    "\n",
    "%matplotlib inline"
   ]
  },
  {
   "cell_type": "markdown",
   "metadata": {
    "deletable": false,
    "editable": false,
    "nbgrader": {
     "checksum": "59ab51f999124b193034f545a0170ce2",
     "grade": false,
     "grade_id": "cell-35ee6fbac5f2e8e1",
     "locked": true,
     "schema_version": 1,
     "solution": false
    }
   },
   "source": [
    "### Load, merge, and clean the data"
   ]
  },
  {
   "cell_type": "code",
   "execution_count": 7,
   "metadata": {
    "deletable": false,
    "nbgrader": {
     "checksum": "afbc2a0e657426f8e4b812ae48c8b0c5",
     "grade": false,
     "grade_id": "q1",
     "locked": false,
     "schema_version": 1,
     "solution": true
    }
   },
   "outputs": [
    {
     "data": {
      "text/html": [
       "<div>\n",
       "<style scoped>\n",
       "    .dataframe tbody tr th:only-of-type {\n",
       "        vertical-align: middle;\n",
       "    }\n",
       "\n",
       "    .dataframe tbody tr th {\n",
       "        vertical-align: top;\n",
       "    }\n",
       "\n",
       "    .dataframe thead th {\n",
       "        text-align: right;\n",
       "    }\n",
       "</style>\n",
       "<table border=\"1\" class=\"dataframe\">\n",
       "  <thead>\n",
       "    <tr style=\"text-align: right;\">\n",
       "      <th></th>\n",
       "      <th>date of death</th>\n",
       "      <th>name</th>\n",
       "      <th>age</th>\n",
       "      <th>bio</th>\n",
       "      <th>cause_id</th>\n",
       "    </tr>\n",
       "  </thead>\n",
       "  <tbody>\n",
       "    <tr>\n",
       "      <th>0</th>\n",
       "      <td>2016-01-01</td>\n",
       "      <td>Tony Lane</td>\n",
       "      <td>71</td>\n",
       "      <td>American art director (Rolling Stone)</td>\n",
       "      <td>8915.0</td>\n",
       "    </tr>\n",
       "    <tr>\n",
       "      <th>1</th>\n",
       "      <td>2016-01-01</td>\n",
       "      <td>Gilbert Kaplan</td>\n",
       "      <td>74</td>\n",
       "      <td>American conductor and businessman</td>\n",
       "      <td>2860.0</td>\n",
       "    </tr>\n",
       "    <tr>\n",
       "      <th>2</th>\n",
       "      <td>2016-01-01</td>\n",
       "      <td>Brian Johns</td>\n",
       "      <td>79</td>\n",
       "      <td>Australian company director, managing director...</td>\n",
       "      <td>2860.0</td>\n",
       "    </tr>\n",
       "    <tr>\n",
       "      <th>3</th>\n",
       "      <td>2016-01-01</td>\n",
       "      <td>Natasha Aguilar</td>\n",
       "      <td>45</td>\n",
       "      <td>Costa Rican swimmer, silver and bronze medalis...</td>\n",
       "      <td>33897.0</td>\n",
       "    </tr>\n",
       "    <tr>\n",
       "      <th>4</th>\n",
       "      <td>2016-01-01</td>\n",
       "      <td>Fazu Aliyeva</td>\n",
       "      <td>83</td>\n",
       "      <td>Russian Avar poet and journalist</td>\n",
       "      <td>10648.0</td>\n",
       "    </tr>\n",
       "    <tr>\n",
       "      <th>...</th>\n",
       "      <td>...</td>\n",
       "      <td>...</td>\n",
       "      <td>...</td>\n",
       "      <td>...</td>\n",
       "      <td>...</td>\n",
       "    </tr>\n",
       "    <tr>\n",
       "      <th>6589</th>\n",
       "      <td>2015-05-14</td>\n",
       "      <td>BB King</td>\n",
       "      <td>89</td>\n",
       "      <td>Singer</td>\n",
       "      <td>10648.0</td>\n",
       "    </tr>\n",
       "    <tr>\n",
       "      <th>6590</th>\n",
       "      <td>2015-06-07</td>\n",
       "      <td>Christopher Lee</td>\n",
       "      <td>93</td>\n",
       "      <td>Actor</td>\n",
       "      <td>10648.0</td>\n",
       "    </tr>\n",
       "    <tr>\n",
       "      <th>6591</th>\n",
       "      <td>2015-07-31</td>\n",
       "      <td>Roddy Piper</td>\n",
       "      <td>61</td>\n",
       "      <td>Pro Wrestler</td>\n",
       "      <td>9047.0</td>\n",
       "    </tr>\n",
       "    <tr>\n",
       "      <th>6592</th>\n",
       "      <td>2015-09-22</td>\n",
       "      <td>Yogi Berra</td>\n",
       "      <td>90</td>\n",
       "      <td>Baseball Player</td>\n",
       "      <td>12202.0</td>\n",
       "    </tr>\n",
       "    <tr>\n",
       "      <th>6593</th>\n",
       "      <td>2015-11-01</td>\n",
       "      <td>Fred Thompson</td>\n",
       "      <td>73</td>\n",
       "      <td>Actor / Politician</td>\n",
       "      <td>23320.0</td>\n",
       "    </tr>\n",
       "  </tbody>\n",
       "</table>\n",
       "<p>6594 rows × 5 columns</p>\n",
       "</div>"
      ],
      "text/plain": [
       "     date of death             name age  \\\n",
       "0       2016-01-01        Tony Lane  71   \n",
       "1       2016-01-01   Gilbert Kaplan  74   \n",
       "2       2016-01-01      Brian Johns  79   \n",
       "3       2016-01-01  Natasha Aguilar  45   \n",
       "4       2016-01-01     Fazu Aliyeva  83   \n",
       "...            ...              ...  ..   \n",
       "6589    2015-05-14          BB King  89   \n",
       "6590    2015-06-07  Christopher Lee  93   \n",
       "6591    2015-07-31      Roddy Piper  61   \n",
       "6592    2015-09-22       Yogi Berra  90   \n",
       "6593    2015-11-01    Fred Thompson  73   \n",
       "\n",
       "                                                    bio  cause_id  \n",
       "0                 American art director (Rolling Stone)    8915.0  \n",
       "1                    American conductor and businessman    2860.0  \n",
       "2     Australian company director, managing director...    2860.0  \n",
       "3     Costa Rican swimmer, silver and bronze medalis...   33897.0  \n",
       "4                      Russian Avar poet and journalist   10648.0  \n",
       "...                                                 ...       ...  \n",
       "6589                                             Singer   10648.0  \n",
       "6590                                              Actor   10648.0  \n",
       "6591                                       Pro Wrestler    9047.0  \n",
       "6592                                    Baseball Player   12202.0  \n",
       "6593                                 Actor / Politician   23320.0  \n",
       "\n",
       "[6594 rows x 5 columns]"
      ]
     },
     "execution_count": 7,
     "metadata": {},
     "output_type": "execute_result"
    }
   ],
   "source": [
    "\"\"\" 1.\n",
    "1. Load the \"celebrity_deaths_2016.xlsx\" data file in the name \"xl\". (This file is saved in the same directory as this notebook.)\n",
    "2. Print the sheet names\n",
    "\"\"\"\n",
    "\n",
    "# YOUR CODE HERE  (pass)\n",
    "\n",
    "xl = pd.ExcelFile(\"celebrity_deaths_2016.xlsx\")\n",
    "df = pd.DataFrame(xl.parse(\"celeb_death\"))\n",
    "df"
   ]
  },
  {
   "cell_type": "code",
   "execution_count": 8,
   "metadata": {
    "deletable": false,
    "editable": false,
    "nbgrader": {
     "checksum": "3d08ca0f88ddc6417136625c5868d866",
     "grade": true,
     "grade_id": "q1_test",
     "locked": true,
     "points": 2,
     "schema_version": 1,
     "solution": false
    }
   },
   "outputs": [],
   "source": [
    "##########################\n",
    "### TEST YOUR SOLUTION ###\n",
    "##########################\n",
    "\n",
    "assert_equal(xl.sheet_names, sol.xl.sheet_names)"
   ]
  },
  {
   "cell_type": "code",
   "execution_count": 9,
   "metadata": {
    "deletable": false,
    "nbgrader": {
     "checksum": "1bacf3157c80e2ffd2f40c5b7347fe7c",
     "grade": false,
     "grade_id": "q2",
     "locked": false,
     "schema_version": 1,
     "solution": true
    }
   },
   "outputs": [],
   "source": [
    "\"\"\" 2.\n",
    "1. Read the \"celeb_death\" sheet into a dataframe named \"df\"\n",
    "2. Take a look at the top 5 rows. Save it in a variable called 'top5', then print it\n",
    "\"\"\"\n",
    "# YOUR CODE HERE  (pass)\n",
    "top5 = df.head(5)\n",
    "#print(top5)\n"
   ]
  },
  {
   "cell_type": "code",
   "execution_count": 10,
   "metadata": {
    "deletable": false,
    "editable": false,
    "nbgrader": {
     "checksum": "ba23889295021d6808c873a373664923",
     "grade": true,
     "grade_id": "q2_test",
     "locked": true,
     "points": 2,
     "schema_version": 1,
     "solution": false
    }
   },
   "outputs": [],
   "source": [
    "##########################\n",
    "### TEST YOUR SOLUTION ###\n",
    "##########################\n",
    "\n",
    "assert_frame_equal(top5, sol.top5)"
   ]
  },
  {
   "cell_type": "code",
   "execution_count": 11,
   "metadata": {
    "deletable": false,
    "nbgrader": {
     "checksum": "c7bcca116ce9f149c2afc9fc4f9f9c76",
     "grade": false,
     "grade_id": "q3",
     "locked": false,
     "schema_version": 1,
     "solution": true
    }
   },
   "outputs": [],
   "source": [
    "\"\"\" 3.\n",
    "1. Take a look at the data types stored in each column in df. Store these in a variable called 'df_dtypes'\n",
    "2. Get the shape of df. Store this in a variable called 'df_shape'\n",
    "3. Print these\n",
    "\"\"\"\n",
    "# YOUR CODE HERE (pass)\n",
    "df_dtypes=top5.dtypes\n",
    "df_shape = df.shape"
   ]
  },
  {
   "cell_type": "code",
   "execution_count": 12,
   "metadata": {
    "deletable": false,
    "editable": false,
    "nbgrader": {
     "checksum": "ade0e1904dfe9939e5a02ab67886e379",
     "grade": true,
     "grade_id": "q3_test",
     "locked": true,
     "points": 2,
     "schema_version": 1,
     "solution": false
    }
   },
   "outputs": [],
   "source": [
    "##########################\n",
    "### TEST YOUR SOLUTION ###\n",
    "##########################\n",
    "\n",
    "assert_series_equal(df_dtypes, sol.df_dtypes)\n",
    "assert_equal(df_shape, sol.df_shape)"
   ]
  },
  {
   "cell_type": "code",
   "execution_count": 13,
   "metadata": {
    "deletable": false,
    "nbgrader": {
     "checksum": "437645d025b82b8aaafe4062c9489ebd",
     "grade": false,
     "grade_id": "q4",
     "locked": false,
     "schema_version": 1,
     "solution": true
    }
   },
   "outputs": [],
   "source": [
    "\"\"\" 4.\n",
    "Drop the duplicates (based on all columns) from df\n",
    "\"\"\"\n",
    "# YOUR CODE HERE (pass)\n",
    "df = df.drop_duplicates()"
   ]
  },
  {
   "cell_type": "code",
   "execution_count": 14,
   "metadata": {
    "deletable": false,
    "editable": false,
    "nbgrader": {
     "checksum": "c521902eff036f07d998b61bdff1af2c",
     "grade": true,
     "grade_id": "q4_test",
     "locked": true,
     "points": 2,
     "schema_version": 1,
     "solution": false
    }
   },
   "outputs": [],
   "source": [
    "##########################\n",
    "### TEST YOUR SOLUTION ###\n",
    "##########################\n",
    "\n",
    "assert_frame_equal(df, sol.df2)"
   ]
  },
  {
   "cell_type": "code",
   "execution_count": 15,
   "metadata": {
    "deletable": false,
    "nbgrader": {
     "checksum": "d405821f2c0257aca9f811b49cb86d64",
     "grade": false,
     "grade_id": "q5",
     "locked": false,
     "schema_version": 1,
     "solution": true
    }
   },
   "outputs": [
    {
     "name": "stdout",
     "output_type": "stream",
     "text": [
      "   cause_id cause of death\n",
      "0       753            ALS\n",
      "1      1039           bomb\n",
      "2      1120           shot\n",
      "3      1499           fall\n",
      "4      1629           shot\n"
     ]
    }
   ],
   "source": [
    "\"\"\" 5.\n",
    "1. Read the \"cause_of_death\" sheet into a DataFrame named \"cause_of_death\"\n",
    "2. Take a look at the top 5 rows. Store this in a variable named cause_top5, then print it\n",
    "\"\"\"\n",
    "# YOUR CODE HERE\n",
    "\n",
    "# YOUR CODE HERE (pass)\n",
    "cause_of_death = pd.read_excel(xl, 'cause_of_death')\n",
    "cause_top5 = cause_of_death.head(5)\n",
    "print(cause_top5)\n",
    " \n"
   ]
  },
  {
   "cell_type": "code",
   "execution_count": 16,
   "metadata": {
    "deletable": false,
    "editable": false,
    "nbgrader": {
     "checksum": "a1e116b6a8575c6efc53631c0057c557",
     "grade": true,
     "grade_id": "q5_test",
     "locked": true,
     "points": 2,
     "schema_version": 1,
     "solution": false
    }
   },
   "outputs": [],
   "source": [
    "##########################\n",
    "### TEST YOUR SOLUTION ###\n",
    "##########################\n",
    "\n",
    "assert_frame_equal(cause_top5, sol.cause_top5)"
   ]
  },
  {
   "cell_type": "code",
   "execution_count": 17,
   "metadata": {
    "deletable": false,
    "nbgrader": {
     "checksum": "f128110ad10c44ba2f625f00ebc67092",
     "grade": false,
     "grade_id": "q6",
     "locked": false,
     "schema_version": 1,
     "solution": true
    }
   },
   "outputs": [],
   "source": [
    "\"\"\" 6.\n",
    "Drop the duplicates (based on the \"cause_id\" column) from the cause_of_death DataFrame\n",
    "\n",
    "Hint: There is a single DataFrame method that does this\n",
    "Use the \"subset\" argument to specify the \"cause_id\" column\n",
    "\n",
    "Reference: https://pandas.pydata.org/pandas-docs/stable/reference/frame.html\n",
    "\"\"\"\n",
    "# YOUR CODE HERE (pass)\n",
    "cause_of_death = cause_of_death.drop_duplicates(subset='cause_id', keep='first')\n",
    "\n"
   ]
  },
  {
   "cell_type": "code",
   "execution_count": 18,
   "metadata": {
    "deletable": false,
    "editable": false,
    "nbgrader": {
     "checksum": "39e51167c4de2f49568ea19ff921518a",
     "grade": true,
     "grade_id": "q6_test",
     "locked": true,
     "points": 2,
     "schema_version": 1,
     "solution": false
    }
   },
   "outputs": [],
   "source": [
    "##########################\n",
    "### TEST YOUR SOLUTION ###\n",
    "##########################\n",
    "\n",
    "assert_frame_equal(cause_of_death, sol.cause_of_death)"
   ]
  },
  {
   "cell_type": "code",
   "execution_count": 19,
   "metadata": {
    "deletable": false,
    "nbgrader": {
     "checksum": "08eba8a039ff5aa2b1ab500d4ad4d35c",
     "grade": false,
     "grade_id": "q7",
     "locked": false,
     "schema_version": 1,
     "solution": true
    }
   },
   "outputs": [
    {
     "data": {
      "text/html": [
       "<div>\n",
       "<style scoped>\n",
       "    .dataframe tbody tr th:only-of-type {\n",
       "        vertical-align: middle;\n",
       "    }\n",
       "\n",
       "    .dataframe tbody tr th {\n",
       "        vertical-align: top;\n",
       "    }\n",
       "\n",
       "    .dataframe thead th {\n",
       "        text-align: right;\n",
       "    }\n",
       "</style>\n",
       "<table border=\"1\" class=\"dataframe\">\n",
       "  <thead>\n",
       "    <tr style=\"text-align: right;\">\n",
       "      <th></th>\n",
       "      <th>date of death</th>\n",
       "      <th>name</th>\n",
       "      <th>age</th>\n",
       "      <th>bio</th>\n",
       "      <th>cause_id</th>\n",
       "      <th>cause of death</th>\n",
       "    </tr>\n",
       "  </thead>\n",
       "  <tbody>\n",
       "    <tr>\n",
       "      <th>0</th>\n",
       "      <td>2016-01-01</td>\n",
       "      <td>Tony Lane</td>\n",
       "      <td>71</td>\n",
       "      <td>American art director (Rolling Stone)</td>\n",
       "      <td>8915.0</td>\n",
       "      <td>brain cancer</td>\n",
       "    </tr>\n",
       "    <tr>\n",
       "      <th>1</th>\n",
       "      <td>2016-01-01</td>\n",
       "      <td>Gilbert Kaplan</td>\n",
       "      <td>74</td>\n",
       "      <td>American conductor and businessman</td>\n",
       "      <td>2860.0</td>\n",
       "      <td>cancer</td>\n",
       "    </tr>\n",
       "    <tr>\n",
       "      <th>2</th>\n",
       "      <td>2016-01-01</td>\n",
       "      <td>Brian Johns</td>\n",
       "      <td>79</td>\n",
       "      <td>Australian company director, managing director...</td>\n",
       "      <td>2860.0</td>\n",
       "      <td>cancer</td>\n",
       "    </tr>\n",
       "    <tr>\n",
       "      <th>3</th>\n",
       "      <td>2016-01-01</td>\n",
       "      <td>Natasha Aguilar</td>\n",
       "      <td>45</td>\n",
       "      <td>Costa Rican swimmer, silver and bronze medalis...</td>\n",
       "      <td>33897.0</td>\n",
       "      <td>complications of a stroke</td>\n",
       "    </tr>\n",
       "    <tr>\n",
       "      <th>4</th>\n",
       "      <td>2016-01-01</td>\n",
       "      <td>Fazu Aliyeva</td>\n",
       "      <td>83</td>\n",
       "      <td>Russian Avar poet and journalist</td>\n",
       "      <td>10648.0</td>\n",
       "      <td>heart failure</td>\n",
       "    </tr>\n",
       "  </tbody>\n",
       "</table>\n",
       "</div>"
      ],
      "text/plain": [
       "  date of death             name age  \\\n",
       "0    2016-01-01        Tony Lane  71   \n",
       "1    2016-01-01   Gilbert Kaplan  74   \n",
       "2    2016-01-01      Brian Johns  79   \n",
       "3    2016-01-01  Natasha Aguilar  45   \n",
       "4    2016-01-01     Fazu Aliyeva  83   \n",
       "\n",
       "                                                 bio  cause_id  \\\n",
       "0              American art director (Rolling Stone)    8915.0   \n",
       "1                 American conductor and businessman    2860.0   \n",
       "2  Australian company director, managing director...    2860.0   \n",
       "3  Costa Rican swimmer, silver and bronze medalis...   33897.0   \n",
       "4                   Russian Avar poet and journalist   10648.0   \n",
       "\n",
       "               cause of death  \n",
       "0                brain cancer  \n",
       "1                      cancer  \n",
       "2                      cancer  \n",
       "3   complications of a stroke  \n",
       "4               heart failure  "
      ]
     },
     "execution_count": 19,
     "metadata": {},
     "output_type": "execute_result"
    }
   ],
   "source": [
    "\"\"\" 7.\n",
    "1. Merge the cause_of_death DataFrame with the df DataFrame and name the new DataFrame as \"df\"\n",
    "2. Take a look at the top 5 rows in df. Save these in a variable called df_top5, then print it\n",
    "\n",
    "Note: There are records in df (left DataFrame) that do not have a matching record in cause_of_death (right DataFrame)\n",
    "We want to see ALL records in df despite the missing matches in cause_of_death, so you DON'T want to use an \"inner join\"\n",
    "\"\"\"\n",
    "# YOUR CODE HERE  (pass)\n",
    "df = pd.merge(df, cause_of_death, how = 'left', on='cause_id') \n",
    "df_top5 = df.head() \n",
    "df_top5\n",
    "\n",
    "\n"
   ]
  },
  {
   "cell_type": "code",
   "execution_count": 20,
   "metadata": {
    "deletable": false,
    "editable": false,
    "nbgrader": {
     "checksum": "553372a590cea4112dc1f93d89cdfa24",
     "grade": true,
     "grade_id": "q7_test",
     "locked": true,
     "points": 2,
     "schema_version": 1,
     "solution": false
    }
   },
   "outputs": [],
   "source": [
    "##########################\n",
    "### TEST YOUR SOLUTION ###\n",
    "##########################\n",
    "assert_frame_equal(df_top5, sol.df_top5)"
   ]
  },
  {
   "cell_type": "code",
   "execution_count": 21,
   "metadata": {},
   "outputs": [
    {
     "data": {
      "text/html": [
       "<div>\n",
       "<style scoped>\n",
       "    .dataframe tbody tr th:only-of-type {\n",
       "        vertical-align: middle;\n",
       "    }\n",
       "\n",
       "    .dataframe tbody tr th {\n",
       "        vertical-align: top;\n",
       "    }\n",
       "\n",
       "    .dataframe thead th {\n",
       "        text-align: right;\n",
       "    }\n",
       "</style>\n",
       "<table border=\"1\" class=\"dataframe\">\n",
       "  <thead>\n",
       "    <tr style=\"text-align: right;\">\n",
       "      <th></th>\n",
       "      <th>date of death</th>\n",
       "      <th>name</th>\n",
       "      <th>age</th>\n",
       "      <th>bio</th>\n",
       "      <th>cause_id</th>\n",
       "      <th>cause of death</th>\n",
       "    </tr>\n",
       "  </thead>\n",
       "  <tbody>\n",
       "    <tr>\n",
       "      <th>0</th>\n",
       "      <td>2016-01-01</td>\n",
       "      <td>Tony Lane</td>\n",
       "      <td>71</td>\n",
       "      <td>American art director (Rolling Stone)</td>\n",
       "      <td>8915.0</td>\n",
       "      <td>brain cancer</td>\n",
       "    </tr>\n",
       "    <tr>\n",
       "      <th>1</th>\n",
       "      <td>2016-01-01</td>\n",
       "      <td>Gilbert Kaplan</td>\n",
       "      <td>74</td>\n",
       "      <td>American conductor and businessman</td>\n",
       "      <td>2860.0</td>\n",
       "      <td>cancer</td>\n",
       "    </tr>\n",
       "    <tr>\n",
       "      <th>2</th>\n",
       "      <td>2016-01-01</td>\n",
       "      <td>Brian Johns</td>\n",
       "      <td>79</td>\n",
       "      <td>Australian company director, managing director...</td>\n",
       "      <td>2860.0</td>\n",
       "      <td>cancer</td>\n",
       "    </tr>\n",
       "    <tr>\n",
       "      <th>3</th>\n",
       "      <td>2016-01-01</td>\n",
       "      <td>Natasha Aguilar</td>\n",
       "      <td>45</td>\n",
       "      <td>Costa Rican swimmer, silver and bronze medalis...</td>\n",
       "      <td>33897.0</td>\n",
       "      <td>complications of a stroke</td>\n",
       "    </tr>\n",
       "    <tr>\n",
       "      <th>4</th>\n",
       "      <td>2016-01-01</td>\n",
       "      <td>Fazu Aliyeva</td>\n",
       "      <td>83</td>\n",
       "      <td>Russian Avar poet and journalist</td>\n",
       "      <td>10648.0</td>\n",
       "      <td>heart failure</td>\n",
       "    </tr>\n",
       "  </tbody>\n",
       "</table>\n",
       "</div>"
      ],
      "text/plain": [
       "  date of death             name age  \\\n",
       "0    2016-01-01        Tony Lane  71   \n",
       "1    2016-01-01   Gilbert Kaplan  74   \n",
       "2    2016-01-01      Brian Johns  79   \n",
       "3    2016-01-01  Natasha Aguilar  45   \n",
       "4    2016-01-01     Fazu Aliyeva  83   \n",
       "\n",
       "                                                 bio  cause_id  \\\n",
       "0              American art director (Rolling Stone)    8915.0   \n",
       "1                 American conductor and businessman    2860.0   \n",
       "2  Australian company director, managing director...    2860.0   \n",
       "3  Costa Rican swimmer, silver and bronze medalis...   33897.0   \n",
       "4                   Russian Avar poet and journalist   10648.0   \n",
       "\n",
       "               cause of death  \n",
       "0                brain cancer  \n",
       "1                      cancer  \n",
       "2                      cancer  \n",
       "3   complications of a stroke  \n",
       "4               heart failure  "
      ]
     },
     "execution_count": 21,
     "metadata": {},
     "output_type": "execute_result"
    }
   ],
   "source": [
    "sol.df_top5"
   ]
  },
  {
   "cell_type": "markdown",
   "metadata": {
    "deletable": false,
    "editable": false,
    "nbgrader": {
     "checksum": "4bed0623645072b614ad5bbaade7ff1f",
     "grade": false,
     "grade_id": "cell-a76eee5c31152d7e",
     "locked": true,
     "schema_version": 1,
     "solution": false
    }
   },
   "source": [
    "### Querying data\n",
    "\n",
    "For the following questions, all the operations are on the Dataframe df."
   ]
  },
  {
   "cell_type": "code",
   "execution_count": 22,
   "metadata": {
    "deletable": false,
    "nbgrader": {
     "checksum": "81f14d8057b7bca97d63bac07abd0f42",
     "grade": false,
     "grade_id": "q8",
     "locked": false,
     "schema_version": 1,
     "solution": true
    }
   },
   "outputs": [],
   "source": [
    "\"\"\" 8.\n",
    "We'll be doing some calculations with the age column, but it was loaded from the data file as dtype \"object\"\n",
    "So first, we need to cast DataFrame df to a numeric value\n",
    "\"\"\"\n",
    "# YOUR CODE HERE (pass)\n",
    "df['age'] = pd.to_numeric(df['age'], errors='coerce')"
   ]
  },
  {
   "cell_type": "code",
   "execution_count": 23,
   "metadata": {
    "deletable": false,
    "editable": false,
    "nbgrader": {
     "checksum": "8161fb493602932c56105d44b5e99b89",
     "grade": true,
     "grade_id": "q8_test",
     "locked": true,
     "points": 2,
     "schema_version": 1,
     "solution": false
    }
   },
   "outputs": [],
   "source": [
    "##########################\n",
    "### TEST YOUR SOLUTION ###\n",
    "##########################\n",
    "\n",
    "assert_series_equal(df['age'], sol.df3['age'])"
   ]
  },
  {
   "cell_type": "code",
   "execution_count": 24,
   "metadata": {
    "deletable": false,
    "nbgrader": {
     "checksum": "b70fb66a741cbea26f3d62828a2e974f",
     "grade": false,
     "grade_id": "q9",
     "locked": false,
     "schema_version": 1,
     "solution": true
    }
   },
   "outputs": [
    {
     "name": "stdout",
     "output_type": "stream",
     "text": [
      "77.03194103194103\n"
     ]
    }
   ],
   "source": [
    "\"\"\" 9.\n",
    "What was the average age of death? Store this value in a variable called 'avg_age', then print it\n",
    "\"\"\"\n",
    "# YOUR CODE HERE    (passed! must be 77.03194103194103)\n",
    "\n",
    "\n",
    "avg_age = df[\"age\"].mean()\n",
    "\n",
    "print(avg_age)\n",
    " "
   ]
  },
  {
   "cell_type": "code",
   "execution_count": 25,
   "metadata": {
    "deletable": false,
    "editable": false,
    "nbgrader": {
     "checksum": "a573a28984187750f0d9658f7c12dd53",
     "grade": true,
     "grade_id": "q9_test",
     "locked": true,
     "points": 2,
     "schema_version": 1,
     "solution": false
    }
   },
   "outputs": [],
   "source": [
    "##########################\n",
    "### TEST YOUR SOLUTION ###\n",
    "##########################\n",
    "\n",
    "assert_equal(avg_age, sol.avg_age)"
   ]
  },
  {
   "cell_type": "code",
   "execution_count": 26,
   "metadata": {
    "deletable": false,
    "nbgrader": {
     "checksum": "2bc5c8021f64b5fc9b8e00489082a81e",
     "grade": false,
     "grade_id": "q10",
     "locked": false,
     "schema_version": 1,
     "solution": true
    }
   },
   "outputs": [
    {
     "name": "stdout",
     "output_type": "stream",
     "text": [
      "4752\n"
     ]
    }
   ],
   "source": [
    "\"\"\" 10.\n",
    "How many people died after the age of 70?\n",
    "-- Store the result count in a variable named \"count\" and print it\n",
    "\"\"\"\n",
    "# YOUR CODE HERE (pass)\n",
    "\n",
    "count = 0\n",
    "\n",
    "for i in range(0,len(df)):\n",
    "    if(df['age'][i] > 70):\n",
    "        count+=1\n",
    "\n",
    "print(count)"
   ]
  },
  {
   "cell_type": "code",
   "execution_count": 27,
   "metadata": {
    "deletable": false,
    "editable": false,
    "nbgrader": {
     "checksum": "bb2fb682fb9852e45d30cc8e30abeaae",
     "grade": true,
     "grade_id": "q10_test",
     "locked": true,
     "points": 2,
     "schema_version": 1,
     "solution": false
    }
   },
   "outputs": [],
   "source": [
    "##########################\n",
    "### TEST YOUR SOLUTION ###\n",
    "##########################\n",
    "\n",
    "assert_equal(count, sol.count)"
   ]
  },
  {
   "cell_type": "code",
   "execution_count": 28,
   "metadata": {
    "deletable": false,
    "nbgrader": {
     "checksum": "b0ae1bee43b7995680ddb698463e2684",
     "grade": false,
     "grade_id": "q11",
     "locked": false,
     "schema_version": 1,
     "solution": true
    }
   },
   "outputs": [
    {
     "name": "stdout",
     "output_type": "stream",
     "text": [
      "5610    Vautour\n",
      "Name: name, dtype: object\n",
      "5610     euthanised\n",
      "Name: cause of death, dtype: object\n"
     ]
    }
   ],
   "source": [
    "\"\"\" 11.\n",
    "Who died the youngest and what was the cause of death?\n",
    "-- Store the name in a variable named \"youngest_name\" and print it\n",
    "-- Store the cause in a variable named \"youngest_cause\" and print it\n",
    "\n",
    "Hint: Get the min age and find the record that has that value\n",
    "\"\"\"\n",
    "# YOUR CODE HERE (pass)\n",
    "\n",
    "youngest_name = df['name'][df[['age']].idxmin()]\n",
    "\n",
    "youngest_cause = df['cause of death'][df[['age']].idxmin()]\n",
    "\n",
    "print(youngest_name)\n",
    "print(youngest_cause) \n"
   ]
  },
  {
   "cell_type": "code",
   "execution_count": 29,
   "metadata": {
    "deletable": false,
    "editable": false,
    "nbgrader": {
     "checksum": "88e4454c3819dfc9706e751455416604",
     "grade": true,
     "grade_id": "q11_test",
     "locked": true,
     "points": 2,
     "schema_version": 1,
     "solution": false
    }
   },
   "outputs": [],
   "source": [
    "##########################\n",
    "### TEST YOUR SOLUTION ###\n",
    "##########################\n",
    "\n",
    "assert_series_equal(youngest_name, sol.youngest_name)\n",
    "assert_series_equal(youngest_cause, sol.youngest_cause)"
   ]
  },
  {
   "cell_type": "code",
   "execution_count": 30,
   "metadata": {
    "deletable": false,
    "nbgrader": {
     "checksum": "bb18f764ffeed6a492b050fbe3d0d5ce",
     "grade": false,
     "grade_id": "q12",
     "locked": false,
     "schema_version": 1,
     "solution": true
    }
   },
   "outputs": [],
   "source": [
    "\"\"\" 12.\n",
    "We'll be running some queries based on the \"bio\" column, \n",
    "but it was loaded from the data file as an object.  So first, cast this column to a string.\n",
    "\"\"\"\n",
    "# YOUR CODE HERE (pass)\n",
    "df['bio'] = df['bio'].astype('str')\n",
    "df['cause of death'] = df['cause of death'].astype('str')"
   ]
  },
  {
   "cell_type": "code",
   "execution_count": 31,
   "metadata": {},
   "outputs": [
    {
     "name": "stdout",
     "output_type": "stream",
     "text": [
      "date of death     datetime64[ns]\n",
      "name                      object\n",
      "age                      float64\n",
      "bio                       object\n",
      "cause_id                 float64\n",
      "cause of death            object\n",
      "dtype: object\n"
     ]
    }
   ],
   "source": [
    "print(df.dtypes)"
   ]
  },
  {
   "cell_type": "code",
   "execution_count": 32,
   "metadata": {
    "deletable": false,
    "editable": false,
    "nbgrader": {
     "checksum": "2c7b82d3c472c5ed15fc989f1d5d28af",
     "grade": true,
     "grade_id": "q12_test",
     "locked": true,
     "points": 2,
     "schema_version": 1,
     "solution": false
    }
   },
   "outputs": [],
   "source": [
    "##########################\n",
    "### TEST YOUR SOLUTION ###\n",
    "##########################\n",
    "\n",
    "assert_series_equal(df['bio'], sol.df['bio'])"
   ]
  },
  {
   "cell_type": "code",
   "execution_count": 33,
   "metadata": {
    "deletable": false,
    "nbgrader": {
     "checksum": "c4ddbceedd45a465273de430403a2899",
     "grade": false,
     "grade_id": "q13",
     "locked": false,
     "schema_version": 1,
     "solution": true
    }
   },
   "outputs": [],
   "source": [
    "\"\"\" 13.\n",
    "How many American celebrities died?\n",
    "-- Store the result count in a variable named \"count_american\" and print it\n",
    "\n",
    "Hint: Search the bio for \"American\"\n",
    "\"\"\"\n",
    "# YOUR CODE HERE        (pass)\n",
    "count_american = df['bio'].str.contains('American').sum()"
   ]
  },
  {
   "cell_type": "code",
   "execution_count": 34,
   "metadata": {
    "deletable": false,
    "editable": false,
    "nbgrader": {
     "checksum": "d3d29eeca78b9183b8e78ed4823590fb",
     "grade": true,
     "grade_id": "q13_test",
     "locked": true,
     "points": 2,
     "schema_version": 1,
     "solution": false
    }
   },
   "outputs": [],
   "source": [
    "##########################\n",
    "### TEST YOUR SOLUTION ###\n",
    "##########################\n",
    "\n",
    "assert_equal(count_american, sol.count_american)"
   ]
  },
  {
   "cell_type": "code",
   "execution_count": 35,
   "metadata": {
    "deletable": false,
    "nbgrader": {
     "checksum": "9c2857866fdedcd9c07b696d1e8b4593",
     "grade": false,
     "grade_id": "q14",
     "locked": false,
     "schema_version": 1,
     "solution": true
    }
   },
   "outputs": [
    {
     "name": "stdout",
     "output_type": "stream",
     "text": [
      "Age 50. Cause of Death:  traffic collision\n"
     ]
    }
   ],
   "source": [
    "\"\"\" 14.\n",
    "What was one known cause of death for celebrities who died at age 50?\n",
    "-- Name the result as \"rand_cause\"\n",
    "-- Print the result using \"print(\"Age 50. Cause of Death:\", rand_cause)\"\n",
    "\n",
    "Hint: \n",
    "Get all the celebrity death records for celebrities who died at 50  \n",
    "Ignore the ones where the cause of death is unknown, or NaN\n",
    "import random and randomly select one of the death records \n",
    "Extract the cause of death and store in a variable \"rand_cause\"\n",
    "\"\"\"\n",
    "\n",
    "#############################################################################################\n",
    "### DO NOT MODIFY THIS! WE NEED TO SEED THE RANDOM VALUE TO ACCURATELY TEST YOUR SOLUTION ###\n",
    "import random\n",
    "random.seed(0)\n",
    "#############################################################################################\n",
    "\n",
    "rand_cause = random.choice(list(df[df[\"age\"] == 50][\"cause of death\"]))    #(pass)\n",
    "print(\"Age 50. Cause of Death:\", rand_cause)\n",
    "\n"
   ]
  },
  {
   "cell_type": "code",
   "execution_count": 36,
   "metadata": {
    "deletable": false,
    "editable": false,
    "nbgrader": {
     "checksum": "ab6bd8d4c78cc11df07c805136636cac",
     "grade": true,
     "grade_id": "q14_test",
     "locked": true,
     "points": 2,
     "schema_version": 1,
     "solution": false
    }
   },
   "outputs": [],
   "source": [
    "##########################\n",
    "### TEST YOUR SOLUTION ###\n",
    "##########################\n",
    "\n",
    "from nose.tools import assert_in\n",
    "assert_in(rand_cause, sol.possible_causes.values)"
   ]
  },
  {
   "cell_type": "code",
   "execution_count": 69,
   "metadata": {
    "deletable": false,
    "nbgrader": {
     "checksum": "77e603f46a7abfde7ddfd2a50aab7b4a",
     "grade": false,
     "grade_id": "q15",
     "locked": false,
     "schema_version": 1,
     "solution": true
    }
   },
   "outputs": [
    {
     "data": {
      "text/html": [
       "<div>\n",
       "<style scoped>\n",
       "    .dataframe tbody tr th:only-of-type {\n",
       "        vertical-align: middle;\n",
       "    }\n",
       "\n",
       "    .dataframe tbody tr th {\n",
       "        vertical-align: top;\n",
       "    }\n",
       "\n",
       "    .dataframe thead tr th {\n",
       "        text-align: left;\n",
       "    }\n",
       "\n",
       "    .dataframe thead tr:last-of-type th {\n",
       "        text-align: right;\n",
       "    }\n",
       "</style>\n",
       "<table border=\"1\" class=\"dataframe\">\n",
       "  <thead>\n",
       "    <tr>\n",
       "      <th></th>\n",
       "      <th>age</th>\n",
       "    </tr>\n",
       "    <tr>\n",
       "      <th></th>\n",
       "      <th>mean</th>\n",
       "    </tr>\n",
       "    <tr>\n",
       "      <th>cause of death</th>\n",
       "      <th></th>\n",
       "    </tr>\n",
       "  </thead>\n",
       "  <tbody>\n",
       "    <tr>\n",
       "      <th>Alzheimer's disease</th>\n",
       "      <td>79.590909</td>\n",
       "    </tr>\n",
       "    <tr>\n",
       "      <th>Myself and I)</th>\n",
       "      <td>76.000000</td>\n",
       "    </tr>\n",
       "    <tr>\n",
       "      <th>Parkinson's disease</th>\n",
       "      <td>80.200000</td>\n",
       "    </tr>\n",
       "    <tr>\n",
       "      <th>Parkinson's disease and multiple myeloma</th>\n",
       "      <td>69.000000</td>\n",
       "    </tr>\n",
       "    <tr>\n",
       "      <th>Pick's disease</th>\n",
       "      <td>68.000000</td>\n",
       "    </tr>\n",
       "    <tr>\n",
       "      <th>...</th>\n",
       "      <td>...</td>\n",
       "    </tr>\n",
       "    <tr>\n",
       "      <th>plane crash</th>\n",
       "      <td>55.500000</td>\n",
       "    </tr>\n",
       "    <tr>\n",
       "      <th>progressive supranuclear palsy</th>\n",
       "      <td>84.000000</td>\n",
       "    </tr>\n",
       "    <tr>\n",
       "      <th>shot</th>\n",
       "      <td>56.500000</td>\n",
       "    </tr>\n",
       "    <tr>\n",
       "      <th>stabbed</th>\n",
       "      <td>85.000000</td>\n",
       "    </tr>\n",
       "    <tr>\n",
       "      <th>tased</th>\n",
       "      <td>48.000000</td>\n",
       "    </tr>\n",
       "  </tbody>\n",
       "</table>\n",
       "<p>334 rows × 1 columns</p>\n",
       "</div>"
      ],
      "text/plain": [
       "                                                 age\n",
       "                                                mean\n",
       "cause of death                                      \n",
       " Alzheimer's disease                       79.590909\n",
       " Myself and I)                             76.000000\n",
       " Parkinson's disease                       80.200000\n",
       " Parkinson's disease and multiple myeloma  69.000000\n",
       " Pick's disease                            68.000000\n",
       "...                                              ...\n",
       " plane crash                               55.500000\n",
       " progressive supranuclear palsy            84.000000\n",
       " shot                                      56.500000\n",
       " stabbed                                   85.000000\n",
       " tased                                     48.000000\n",
       "\n",
       "[334 rows x 1 columns]"
      ]
     },
     "execution_count": 69,
     "metadata": {},
     "output_type": "execute_result"
    }
   ],
   "source": [
    "\"\"\" 15.\n",
    "What was the mean age for each cause of death?\n",
    "\n",
    "Hint: import numpy and group by 'cause of death', then get the mean age and store the \n",
    "resulting DataFrame in a variable named 'df_grouped_cause', then print it\n",
    "\"\"\"\n",
    "# YOUR CODE HERE\n",
    "from numpy import *\n",
    "df_grouped_cause = df.groupby(\"cause of death\").agg({\"age\":['mean']},axis=0)\n",
    "\n",
    "#pd.pivot_table(df, index=\"cause of death\", values=\"age\",aggfunc=\"mean\")\n",
    "#df_per_month = df.pivot_table(index= 'year',columns='month of death', aggfunc = 'size')\n",
    "\n",
    "\n",
    "\n",
    "\n",
    "df_grouped_cause\n",
    "\n",
    "\n",
    "\n",
    "\n"
   ]
  },
  {
   "cell_type": "code",
   "execution_count": 60,
   "metadata": {
    "deletable": false,
    "editable": false,
    "nbgrader": {
     "checksum": "b4cd4f1bce0397759f5fa437c8399829",
     "grade": true,
     "grade_id": "q15_test",
     "locked": true,
     "points": 2,
     "schema_version": 1,
     "solution": false
    }
   },
   "outputs": [
    {
     "ename": "AssertionError",
     "evalue": "DataFrame are different\n\nDataFrame shape mismatch\n[left]:  (334, 1)\n[right]: (333, 1)",
     "output_type": "error",
     "traceback": [
      "\u001B[0;31m---------------------------------------------------------------------------\u001B[0m",
      "\u001B[0;31mAssertionError\u001B[0m                            Traceback (most recent call last)",
      "\u001B[0;32m<ipython-input-60-31b852e1d180>\u001B[0m in \u001B[0;36m<module>\u001B[0;34m()\u001B[0m\n\u001B[1;32m      2\u001B[0m \u001B[0;31m### TEST YOUR SOLUTION ###\u001B[0m\u001B[0;34m\u001B[0m\u001B[0;34m\u001B[0m\u001B[0;34m\u001B[0m\u001B[0m\n\u001B[1;32m      3\u001B[0m \u001B[0;31m##########################\u001B[0m\u001B[0;34m\u001B[0m\u001B[0;34m\u001B[0m\u001B[0;34m\u001B[0m\u001B[0m\n\u001B[0;32m----> 4\u001B[0;31m \u001B[0massert_frame_equal\u001B[0m\u001B[0;34m(\u001B[0m\u001B[0mdf_grouped_cause\u001B[0m\u001B[0;34m,\u001B[0m \u001B[0msol\u001B[0m\u001B[0;34m.\u001B[0m\u001B[0mdf_grouped_cause\u001B[0m\u001B[0;34m)\u001B[0m\u001B[0;34m\u001B[0m\u001B[0;34m\u001B[0m\u001B[0m\n\u001B[0m",
      "\u001B[0;32m/usr/local/lib/python3.6/dist-packages/pandas/_testing.py\u001B[0m in \u001B[0;36massert_frame_equal\u001B[0;34m(left, right, check_dtype, check_index_type, check_column_type, check_frame_type, check_less_precise, check_names, by_blocks, check_exact, check_datetimelike_compat, check_categorical, check_like, check_freq, rtol, atol, obj)\u001B[0m\n\u001B[1;32m   1560\u001B[0m     \u001B[0;32mif\u001B[0m \u001B[0mleft\u001B[0m\u001B[0;34m.\u001B[0m\u001B[0mshape\u001B[0m \u001B[0;34m!=\u001B[0m \u001B[0mright\u001B[0m\u001B[0;34m.\u001B[0m\u001B[0mshape\u001B[0m\u001B[0;34m:\u001B[0m\u001B[0;34m\u001B[0m\u001B[0;34m\u001B[0m\u001B[0m\n\u001B[1;32m   1561\u001B[0m         raise_assert_detail(\n\u001B[0;32m-> 1562\u001B[0;31m             \u001B[0mobj\u001B[0m\u001B[0;34m,\u001B[0m \u001B[0;34mf\"{obj} shape mismatch\"\u001B[0m\u001B[0;34m,\u001B[0m \u001B[0;34mf\"{repr(left.shape)}\"\u001B[0m\u001B[0;34m,\u001B[0m \u001B[0;34mf\"{repr(right.shape)}\"\u001B[0m\u001B[0;34m,\u001B[0m\u001B[0;34m\u001B[0m\u001B[0;34m\u001B[0m\u001B[0m\n\u001B[0m\u001B[1;32m   1563\u001B[0m         )\n\u001B[1;32m   1564\u001B[0m \u001B[0;34m\u001B[0m\u001B[0m\n",
      "\u001B[0;32m/usr/local/lib/python3.6/dist-packages/pandas/_testing.py\u001B[0m in \u001B[0;36mraise_assert_detail\u001B[0;34m(obj, message, left, right, diff, index_values)\u001B[0m\n\u001B[1;32m   1034\u001B[0m         \u001B[0mmsg\u001B[0m \u001B[0;34m+=\u001B[0m \u001B[0;34mf\"\\n[diff]: {diff}\"\u001B[0m\u001B[0;34m\u001B[0m\u001B[0;34m\u001B[0m\u001B[0m\n\u001B[1;32m   1035\u001B[0m \u001B[0;34m\u001B[0m\u001B[0m\n\u001B[0;32m-> 1036\u001B[0;31m     \u001B[0;32mraise\u001B[0m \u001B[0mAssertionError\u001B[0m\u001B[0;34m(\u001B[0m\u001B[0mmsg\u001B[0m\u001B[0;34m)\u001B[0m\u001B[0;34m\u001B[0m\u001B[0;34m\u001B[0m\u001B[0m\n\u001B[0m\u001B[1;32m   1037\u001B[0m \u001B[0;34m\u001B[0m\u001B[0m\n\u001B[1;32m   1038\u001B[0m \u001B[0;34m\u001B[0m\u001B[0m\n",
      "\u001B[0;31mAssertionError\u001B[0m: DataFrame are different\n\nDataFrame shape mismatch\n[left]:  (334, 1)\n[right]: (333, 1)"
     ]
    }
   ],
   "source": [
    "##########################\n",
    "### TEST YOUR SOLUTION ###\n",
    "##########################\n",
    "assert_frame_equal(df_grouped_cause, sol.df_grouped_cause)"
   ]
  },
  {
   "cell_type": "code",
   "execution_count": 61,
   "metadata": {},
   "outputs": [
    {
     "data": {
      "text/html": [
       "<div>\n",
       "<style scoped>\n",
       "    .dataframe tbody tr th:only-of-type {\n",
       "        vertical-align: middle;\n",
       "    }\n",
       "\n",
       "    .dataframe tbody tr th {\n",
       "        vertical-align: top;\n",
       "    }\n",
       "\n",
       "    .dataframe thead th {\n",
       "        text-align: right;\n",
       "    }\n",
       "</style>\n",
       "<table border=\"1\" class=\"dataframe\">\n",
       "  <thead>\n",
       "    <tr style=\"text-align: right;\">\n",
       "      <th></th>\n",
       "      <th>mean</th>\n",
       "    </tr>\n",
       "    <tr>\n",
       "      <th>cause of death</th>\n",
       "      <th></th>\n",
       "    </tr>\n",
       "  </thead>\n",
       "  <tbody>\n",
       "    <tr>\n",
       "      <th>Alzheimer's disease</th>\n",
       "      <td>79.590909</td>\n",
       "    </tr>\n",
       "    <tr>\n",
       "      <th>Myself and I)</th>\n",
       "      <td>76.000000</td>\n",
       "    </tr>\n",
       "    <tr>\n",
       "      <th>Parkinson's disease</th>\n",
       "      <td>80.200000</td>\n",
       "    </tr>\n",
       "    <tr>\n",
       "      <th>Parkinson's disease and multiple myeloma</th>\n",
       "      <td>69.000000</td>\n",
       "    </tr>\n",
       "    <tr>\n",
       "      <th>Pick's disease</th>\n",
       "      <td>68.000000</td>\n",
       "    </tr>\n",
       "    <tr>\n",
       "      <th>...</th>\n",
       "      <td>...</td>\n",
       "    </tr>\n",
       "    <tr>\n",
       "      <th>plane crash</th>\n",
       "      <td>55.500000</td>\n",
       "    </tr>\n",
       "    <tr>\n",
       "      <th>progressive supranuclear palsy</th>\n",
       "      <td>84.000000</td>\n",
       "    </tr>\n",
       "    <tr>\n",
       "      <th>shot</th>\n",
       "      <td>56.500000</td>\n",
       "    </tr>\n",
       "    <tr>\n",
       "      <th>stabbed</th>\n",
       "      <td>85.000000</td>\n",
       "    </tr>\n",
       "    <tr>\n",
       "      <th>tased</th>\n",
       "      <td>48.000000</td>\n",
       "    </tr>\n",
       "  </tbody>\n",
       "</table>\n",
       "<p>333 rows × 1 columns</p>\n",
       "</div>"
      ],
      "text/plain": [
       "                                                mean\n",
       "cause of death                                      \n",
       " Alzheimer's disease                       79.590909\n",
       " Myself and I)                             76.000000\n",
       " Parkinson's disease                       80.200000\n",
       " Parkinson's disease and multiple myeloma  69.000000\n",
       " Pick's disease                            68.000000\n",
       "...                                              ...\n",
       " plane crash                               55.500000\n",
       " progressive supranuclear palsy            84.000000\n",
       " shot                                      56.500000\n",
       " stabbed                                   85.000000\n",
       " tased                                     48.000000\n",
       "\n",
       "[333 rows x 1 columns]"
      ]
     },
     "execution_count": 61,
     "metadata": {},
     "output_type": "execute_result"
    }
   ],
   "source": [
    "sol.df_grouped_cause"
   ]
  },
  {
   "cell_type": "markdown",
   "metadata": {
    "deletable": false,
    "editable": false,
    "nbgrader": {
     "checksum": "7ed71137520ee8bf1bb90c073a1c111a",
     "grade": false,
     "grade_id": "cell-0732ef50d65200e7",
     "locked": true,
     "schema_version": 1,
     "solution": false
    }
   },
   "source": [
    "### Count the number of people who died in each month of 2016\n",
    "1. Create new columns that shows which month and year each person died in\n",
    "2. Group all the entries based on the month they appeared in"
   ]
  },
  {
   "cell_type": "code",
   "execution_count": 39,
   "metadata": {
    "deletable": false,
    "nbgrader": {
     "checksum": "e23c0032571cca497a7fdeb21c62ddc6",
     "grade": false,
     "grade_id": "q16",
     "locked": false,
     "schema_version": 1,
     "solution": true
    }
   },
   "outputs": [],
   "source": [
    "\"\"\" 16.\n",
    "Make a new column in the DataFrame df with the numeric month of death\n",
    "\n",
    "Hint:\n",
    "Use the apply() method to run a function against the \"date of death\" column,\n",
    "and return the numeric month (get the value by using \".month\")\n",
    "\"\"\"\n",
    "\n",
    "\n",
    "def get_month(date):                                     #(pass)\n",
    "    m = pd.to_datetime(date)\n",
    "    return m.month\n",
    "df[\"month\"] = df[\"date of death\"].apply(get_month)"
   ]
  },
  {
   "cell_type": "code",
   "execution_count": 40,
   "metadata": {
    "deletable": false,
    "editable": false,
    "nbgrader": {
     "checksum": "490f0b4e1084f3e1b2e14897612c5e2f",
     "grade": true,
     "grade_id": "q16_test",
     "locked": true,
     "points": 2,
     "schema_version": 1,
     "solution": false
    }
   },
   "outputs": [],
   "source": [
    "##########################\n",
    "### TEST YOUR SOLUTION ###\n",
    "##########################\n",
    "\n",
    "assert_series_equal(df['month'], sol.df['month'])"
   ]
  },
  {
   "cell_type": "code",
   "execution_count": 41,
   "metadata": {
    "deletable": false,
    "nbgrader": {
     "checksum": "6ef89113ff5b25274ce8d5517eaedcce",
     "grade": false,
     "grade_id": "q17",
     "locked": false,
     "schema_version": 1,
     "solution": true
    }
   },
   "outputs": [
    {
     "data": {
      "text/html": [
       "<div>\n",
       "<style scoped>\n",
       "    .dataframe tbody tr th:only-of-type {\n",
       "        vertical-align: middle;\n",
       "    }\n",
       "\n",
       "    .dataframe tbody tr th {\n",
       "        vertical-align: top;\n",
       "    }\n",
       "\n",
       "    .dataframe thead th {\n",
       "        text-align: right;\n",
       "    }\n",
       "</style>\n",
       "<table border=\"1\" class=\"dataframe\">\n",
       "  <thead>\n",
       "    <tr style=\"text-align: right;\">\n",
       "      <th></th>\n",
       "      <th>date of death</th>\n",
       "      <th>name</th>\n",
       "      <th>age</th>\n",
       "      <th>bio</th>\n",
       "      <th>cause_id</th>\n",
       "      <th>cause of death</th>\n",
       "      <th>month</th>\n",
       "      <th>year</th>\n",
       "    </tr>\n",
       "  </thead>\n",
       "  <tbody>\n",
       "    <tr>\n",
       "      <th>0</th>\n",
       "      <td>2016-01-01</td>\n",
       "      <td>Tony Lane</td>\n",
       "      <td>71.0</td>\n",
       "      <td>American art director (Rolling Stone)</td>\n",
       "      <td>8915.0</td>\n",
       "      <td>brain cancer</td>\n",
       "      <td>1</td>\n",
       "      <td>2016</td>\n",
       "    </tr>\n",
       "    <tr>\n",
       "      <th>1</th>\n",
       "      <td>2016-01-01</td>\n",
       "      <td>Gilbert Kaplan</td>\n",
       "      <td>74.0</td>\n",
       "      <td>American conductor and businessman</td>\n",
       "      <td>2860.0</td>\n",
       "      <td>cancer</td>\n",
       "      <td>1</td>\n",
       "      <td>2016</td>\n",
       "    </tr>\n",
       "    <tr>\n",
       "      <th>2</th>\n",
       "      <td>2016-01-01</td>\n",
       "      <td>Brian Johns</td>\n",
       "      <td>79.0</td>\n",
       "      <td>Australian company director, managing director...</td>\n",
       "      <td>2860.0</td>\n",
       "      <td>cancer</td>\n",
       "      <td>1</td>\n",
       "      <td>2016</td>\n",
       "    </tr>\n",
       "    <tr>\n",
       "      <th>3</th>\n",
       "      <td>2016-01-01</td>\n",
       "      <td>Natasha Aguilar</td>\n",
       "      <td>45.0</td>\n",
       "      <td>Costa Rican swimmer, silver and bronze medalis...</td>\n",
       "      <td>33897.0</td>\n",
       "      <td>complications of a stroke</td>\n",
       "      <td>1</td>\n",
       "      <td>2016</td>\n",
       "    </tr>\n",
       "    <tr>\n",
       "      <th>4</th>\n",
       "      <td>2016-01-01</td>\n",
       "      <td>Fazu Aliyeva</td>\n",
       "      <td>83.0</td>\n",
       "      <td>Russian Avar poet and journalist</td>\n",
       "      <td>10648.0</td>\n",
       "      <td>heart failure</td>\n",
       "      <td>1</td>\n",
       "      <td>2016</td>\n",
       "    </tr>\n",
       "  </tbody>\n",
       "</table>\n",
       "</div>"
      ],
      "text/plain": [
       "  date of death             name   age  \\\n",
       "0    2016-01-01        Tony Lane  71.0   \n",
       "1    2016-01-01   Gilbert Kaplan  74.0   \n",
       "2    2016-01-01      Brian Johns  79.0   \n",
       "3    2016-01-01  Natasha Aguilar  45.0   \n",
       "4    2016-01-01     Fazu Aliyeva  83.0   \n",
       "\n",
       "                                                 bio  cause_id  \\\n",
       "0              American art director (Rolling Stone)    8915.0   \n",
       "1                 American conductor and businessman    2860.0   \n",
       "2  Australian company director, managing director...    2860.0   \n",
       "3  Costa Rican swimmer, silver and bronze medalis...   33897.0   \n",
       "4                   Russian Avar poet and journalist   10648.0   \n",
       "\n",
       "               cause of death  month  year  \n",
       "0                brain cancer      1  2016  \n",
       "1                      cancer      1  2016  \n",
       "2                      cancer      1  2016  \n",
       "3   complications of a stroke      1  2016  \n",
       "4               heart failure      1  2016  "
      ]
     },
     "execution_count": 41,
     "metadata": {},
     "output_type": "execute_result"
    }
   ],
   "source": [
    "\"\"\" 17.\n",
    "Make a new column in the DataFrame df with the year of death\n",
    "\n",
    "Hint: Apply a function to get the year from the \"date of death\" column\n",
    "\"\"\" #(pass)\n",
    "\n",
    "df['year'] = df['date of death'].dt.year\n",
    "df.head(5)\n",
    "    "
   ]
  },
  {
   "cell_type": "code",
   "execution_count": 42,
   "metadata": {
    "deletable": false,
    "editable": false,
    "nbgrader": {
     "checksum": "dab663556a9c3d370e412da6b2db8290",
     "grade": true,
     "grade_id": "q17_test",
     "locked": true,
     "points": 2,
     "schema_version": 1,
     "solution": false
    }
   },
   "outputs": [],
   "source": [
    "##########################\n",
    "### TEST YOUR SOLUTION ###\n",
    "##########################\n",
    "\n",
    "assert_series_equal(df['year'], sol.df['year'])"
   ]
  },
  {
   "cell_type": "code",
   "execution_count": 43,
   "metadata": {
    "deletable": false,
    "nbgrader": {
     "checksum": "abec781619238fdc834aeb709710c14b",
     "grade": false,
     "grade_id": "q18",
     "locked": false,
     "schema_version": 1,
     "solution": true
    }
   },
   "outputs": [
    {
     "data": {
      "text/html": [
       "<div>\n",
       "<style scoped>\n",
       "    .dataframe tbody tr th:only-of-type {\n",
       "        vertical-align: middle;\n",
       "    }\n",
       "\n",
       "    .dataframe tbody tr th {\n",
       "        vertical-align: top;\n",
       "    }\n",
       "\n",
       "    .dataframe thead th {\n",
       "        text-align: right;\n",
       "    }\n",
       "</style>\n",
       "<table border=\"1\" class=\"dataframe\">\n",
       "  <thead>\n",
       "    <tr style=\"text-align: right;\">\n",
       "      <th></th>\n",
       "      <th>date of death</th>\n",
       "      <th>name</th>\n",
       "      <th>age</th>\n",
       "      <th>bio</th>\n",
       "      <th>cause_id</th>\n",
       "      <th>cause of death</th>\n",
       "      <th>month</th>\n",
       "      <th>year</th>\n",
       "    </tr>\n",
       "  </thead>\n",
       "  <tbody>\n",
       "    <tr>\n",
       "      <th>0</th>\n",
       "      <td>2016-01-01</td>\n",
       "      <td>Tony Lane</td>\n",
       "      <td>71.0</td>\n",
       "      <td>American art director (Rolling Stone)</td>\n",
       "      <td>8915.0</td>\n",
       "      <td>brain cancer</td>\n",
       "      <td>1</td>\n",
       "      <td>2016</td>\n",
       "    </tr>\n",
       "    <tr>\n",
       "      <th>1</th>\n",
       "      <td>2016-01-01</td>\n",
       "      <td>Gilbert Kaplan</td>\n",
       "      <td>74.0</td>\n",
       "      <td>American conductor and businessman</td>\n",
       "      <td>2860.0</td>\n",
       "      <td>cancer</td>\n",
       "      <td>1</td>\n",
       "      <td>2016</td>\n",
       "    </tr>\n",
       "    <tr>\n",
       "      <th>2</th>\n",
       "      <td>2016-01-01</td>\n",
       "      <td>Brian Johns</td>\n",
       "      <td>79.0</td>\n",
       "      <td>Australian company director, managing director...</td>\n",
       "      <td>2860.0</td>\n",
       "      <td>cancer</td>\n",
       "      <td>1</td>\n",
       "      <td>2016</td>\n",
       "    </tr>\n",
       "    <tr>\n",
       "      <th>3</th>\n",
       "      <td>2016-01-01</td>\n",
       "      <td>Natasha Aguilar</td>\n",
       "      <td>45.0</td>\n",
       "      <td>Costa Rican swimmer, silver and bronze medalis...</td>\n",
       "      <td>33897.0</td>\n",
       "      <td>complications of a stroke</td>\n",
       "      <td>1</td>\n",
       "      <td>2016</td>\n",
       "    </tr>\n",
       "    <tr>\n",
       "      <th>4</th>\n",
       "      <td>2016-01-01</td>\n",
       "      <td>Fazu Aliyeva</td>\n",
       "      <td>83.0</td>\n",
       "      <td>Russian Avar poet and journalist</td>\n",
       "      <td>10648.0</td>\n",
       "      <td>heart failure</td>\n",
       "      <td>1</td>\n",
       "      <td>2016</td>\n",
       "    </tr>\n",
       "    <tr>\n",
       "      <th>...</th>\n",
       "      <td>...</td>\n",
       "      <td>...</td>\n",
       "      <td>...</td>\n",
       "      <td>...</td>\n",
       "      <td>...</td>\n",
       "      <td>...</td>\n",
       "      <td>...</td>\n",
       "      <td>...</td>\n",
       "    </tr>\n",
       "    <tr>\n",
       "      <th>6559</th>\n",
       "      <td>2016-12-31</td>\n",
       "      <td>Peter Fernando</td>\n",
       "      <td>77.0</td>\n",
       "      <td>Indian Roman Catholic prelate, Bishop of Tutic...</td>\n",
       "      <td>NaN</td>\n",
       "      <td>nan</td>\n",
       "      <td>12</td>\n",
       "      <td>2016</td>\n",
       "    </tr>\n",
       "    <tr>\n",
       "      <th>6560</th>\n",
       "      <td>2016-12-31</td>\n",
       "      <td>Manjurul Islam Liton</td>\n",
       "      <td>48.0</td>\n",
       "      <td>Bangladeshi politician</td>\n",
       "      <td>NaN</td>\n",
       "      <td>nan</td>\n",
       "      <td>12</td>\n",
       "      <td>2016</td>\n",
       "    </tr>\n",
       "    <tr>\n",
       "      <th>6561</th>\n",
       "      <td>2016-12-31</td>\n",
       "      <td>David Meltzer</td>\n",
       "      <td>79.0</td>\n",
       "      <td>American poet and musician.</td>\n",
       "      <td>NaN</td>\n",
       "      <td>nan</td>\n",
       "      <td>12</td>\n",
       "      <td>2016</td>\n",
       "    </tr>\n",
       "    <tr>\n",
       "      <th>6562</th>\n",
       "      <td>2016-12-31</td>\n",
       "      <td>Prince Dimitri Romanov</td>\n",
       "      <td>90.0</td>\n",
       "      <td>Russian prince, banker, philanthropist, and au...</td>\n",
       "      <td>NaN</td>\n",
       "      <td>nan</td>\n",
       "      <td>12</td>\n",
       "      <td>2016</td>\n",
       "    </tr>\n",
       "    <tr>\n",
       "      <th>6563</th>\n",
       "      <td>2016-12-31</td>\n",
       "      <td>Robert Taussat</td>\n",
       "      <td>96.0</td>\n",
       "      <td>French historian and author.</td>\n",
       "      <td>NaN</td>\n",
       "      <td>nan</td>\n",
       "      <td>12</td>\n",
       "      <td>2016</td>\n",
       "    </tr>\n",
       "  </tbody>\n",
       "</table>\n",
       "<p>6564 rows × 8 columns</p>\n",
       "</div>"
      ],
      "text/plain": [
       "     date of death                    name   age  \\\n",
       "0       2016-01-01               Tony Lane  71.0   \n",
       "1       2016-01-01          Gilbert Kaplan  74.0   \n",
       "2       2016-01-01             Brian Johns  79.0   \n",
       "3       2016-01-01         Natasha Aguilar  45.0   \n",
       "4       2016-01-01            Fazu Aliyeva  83.0   \n",
       "...            ...                     ...   ...   \n",
       "6559    2016-12-31          Peter Fernando  77.0   \n",
       "6560    2016-12-31    Manjurul Islam Liton  48.0   \n",
       "6561    2016-12-31           David Meltzer  79.0   \n",
       "6562    2016-12-31  Prince Dimitri Romanov  90.0   \n",
       "6563    2016-12-31          Robert Taussat  96.0   \n",
       "\n",
       "                                                    bio  cause_id  \\\n",
       "0                 American art director (Rolling Stone)    8915.0   \n",
       "1                    American conductor and businessman    2860.0   \n",
       "2     Australian company director, managing director...    2860.0   \n",
       "3     Costa Rican swimmer, silver and bronze medalis...   33897.0   \n",
       "4                      Russian Avar poet and journalist   10648.0   \n",
       "...                                                 ...       ...   \n",
       "6559  Indian Roman Catholic prelate, Bishop of Tutic...       NaN   \n",
       "6560                             Bangladeshi politician       NaN   \n",
       "6561                        American poet and musician.       NaN   \n",
       "6562  Russian prince, banker, philanthropist, and au...       NaN   \n",
       "6563                       French historian and author.       NaN   \n",
       "\n",
       "                  cause of death  month  year  \n",
       "0                   brain cancer      1  2016  \n",
       "1                         cancer      1  2016  \n",
       "2                         cancer      1  2016  \n",
       "3      complications of a stroke      1  2016  \n",
       "4                  heart failure      1  2016  \n",
       "...                          ...    ...   ...  \n",
       "6559                         nan     12  2016  \n",
       "6560                         nan     12  2016  \n",
       "6561                         nan     12  2016  \n",
       "6562                         nan     12  2016  \n",
       "6563                         nan     12  2016  \n",
       "\n",
       "[6564 rows x 8 columns]"
      ]
     },
     "execution_count": 43,
     "metadata": {},
     "output_type": "execute_result"
    }
   ],
   "source": [
    "\"\"\" 18.\n",
    "There could be a small number of deaths that didn’t take place in 2016.  Just in case, \n",
    "filter out the deaths that didn’t take place in 2016.\n",
    "-- Name the new DataFrame as “df_2016”\n",
    "Hint: Query the df DataFrame for deaths where the “year” == 2016.\n",
    "\"\"\"\n",
    "import numpy as np\n",
    "# YOUR CODE HERE\n",
    "df_2016 = df[df['year'] == 2016]\n",
    "\n",
    "\n",
    "\n",
    "df_2016"
   ]
  },
  {
   "cell_type": "code",
   "execution_count": 44,
   "metadata": {
    "deletable": false,
    "editable": false,
    "nbgrader": {
     "checksum": "6c92686c6527e4a29685860f049b0c7d",
     "grade": true,
     "grade_id": "q18_test",
     "locked": true,
     "points": 2,
     "schema_version": 1,
     "solution": false
    }
   },
   "outputs": [
    {
     "ename": "AssertionError",
     "evalue": "DataFrame.iloc[:, 5] (column name=\"cause of death\") are different\n\nDataFrame.iloc[:, 5] (column name=\"cause of death\") values are different (78.06216 %)\n[index]: [0, 1, 2, 3, 4, 5, 6, 7, 8, 9, 10, 11, 12, 13, 14, 15, 16, 17, 18, 19, 20, 21, 22, 23, 24, 25, 26, 27, 28, 29, 30, 31, 32, 33, 34, 35, 36, 37, 38, 39, 40, 41, 42, 43, 44, 45, 46, 47, 48, 49, 50, 51, 52, 53, 54, 55, 56, 57, 58, 59, 60, 61, 62, 63, 64, 65, 66, 67, 68, 69, 70, 71, 72, 73, 74, 75, 76, 77, 78, 79, 80, 81, 82, 83, 84, 85, 86, 87, 88, 89, 90, 91, 92, 93, 94, 95, 96, 97, 98, 99, ...]\n[left]:  [ brain cancer,  cancer,  cancer,  complications of a stroke,  heart failure,  lung cancer, nan, nan, nan, nan, nan, nan, nan, nan, nan, nan, nan, nan, nan, nan,  cancer,  complications from a stroke,  complications from a stroke,  execution by beheading,  execution by beheading,  fall,  kidney failure,  pancreatic cancer,  pneumonia,  progressive supranuclear palsy,  shot, nan,  stabbed,  throat cancer, nan, nan, nan, nan, nan, nan, nan, nan, nan,  cancer,  pneumonia,  stroke,  suicide by gunshot, nan, nan, nan, nan, nan, nan, nan, nan, nan, nan, nan, nan, nan, nan, nan, nan, nan,  breast cancer,  heart attack,  heart attack,  heart failure,  heart failure,  prostate cancer,  respiratory failure,  suicide by jumping,  traffic collision, nan, nan, nan, nan, nan, nan, nan, nan, nan, nan, nan, nan, nan, nan, nan, nan, nan, nan, nan,  complications from surgery,  fall,  heart attack, nan, nan, nan, nan, nan, ...]\n[right]: [ brain cancer,  cancer,  cancer,  complications of a stroke,  heart failure,  lung cancer, nan, nan, nan, nan, nan, nan, nan, nan, nan, nan, nan, nan, nan, nan,  cancer,  complications from a stroke,  complications from a stroke,  execution by beheading,  execution by beheading,  fall,  kidney failure,  pancreatic cancer,  pneumonia,  progressive supranuclear palsy,  shot, nan,  stabbed,  throat cancer, nan, nan, nan, nan, nan, nan, nan, nan, nan,  cancer,  pneumonia,  stroke,  suicide by gunshot, nan, nan, nan, nan, nan, nan, nan, nan, nan, nan, nan, nan, nan, nan, nan, nan, nan,  breast cancer,  heart attack,  heart attack,  heart failure,  heart failure,  prostate cancer,  respiratory failure,  suicide by jumping,  traffic collision, nan, nan, nan, nan, nan, nan, nan, nan, nan, nan, nan, nan, nan, nan, nan, nan, nan, nan, nan,  complications from surgery,  fall,  heart attack, nan, nan, nan, nan, nan, ...]",
     "output_type": "error",
     "traceback": [
      "\u001B[0;31m---------------------------------------------------------------------------\u001B[0m",
      "\u001B[0;31mAssertionError\u001B[0m                            Traceback (most recent call last)",
      "\u001B[0;32m<ipython-input-44-5c45f0a8de20>\u001B[0m in \u001B[0;36m<module>\u001B[0;34m()\u001B[0m\n\u001B[1;32m      3\u001B[0m \u001B[0;31m##########################\u001B[0m\u001B[0;34m\u001B[0m\u001B[0;34m\u001B[0m\u001B[0;34m\u001B[0m\u001B[0m\n\u001B[1;32m      4\u001B[0m \u001B[0;34m\u001B[0m\u001B[0m\n\u001B[0;32m----> 5\u001B[0;31m \u001B[0massert_frame_equal\u001B[0m\u001B[0;34m(\u001B[0m\u001B[0mdf_2016\u001B[0m\u001B[0;34m,\u001B[0m \u001B[0msol\u001B[0m\u001B[0;34m.\u001B[0m\u001B[0mdf_2016\u001B[0m\u001B[0;34m)\u001B[0m\u001B[0;34m\u001B[0m\u001B[0;34m\u001B[0m\u001B[0m\n\u001B[0m",
      "\u001B[0;32m/usr/local/lib/python3.6/dist-packages/pandas/_testing.py\u001B[0m in \u001B[0;36massert_frame_equal\u001B[0;34m(left, right, check_dtype, check_index_type, check_column_type, check_frame_type, check_less_precise, check_names, by_blocks, check_exact, check_datetimelike_compat, check_categorical, check_like, check_freq, rtol, atol, obj)\u001B[0m\n\u001B[1;32m   1621\u001B[0m                 \u001B[0mobj\u001B[0m\u001B[0;34m=\u001B[0m\u001B[0;34mf'{obj}.iloc[:, {i}] (column name=\"{col}\")'\u001B[0m\u001B[0;34m,\u001B[0m\u001B[0;34m\u001B[0m\u001B[0;34m\u001B[0m\u001B[0m\n\u001B[1;32m   1622\u001B[0m                 \u001B[0mrtol\u001B[0m\u001B[0;34m=\u001B[0m\u001B[0mrtol\u001B[0m\u001B[0;34m,\u001B[0m\u001B[0;34m\u001B[0m\u001B[0;34m\u001B[0m\u001B[0m\n\u001B[0;32m-> 1623\u001B[0;31m                 \u001B[0matol\u001B[0m\u001B[0;34m=\u001B[0m\u001B[0matol\u001B[0m\u001B[0;34m,\u001B[0m\u001B[0;34m\u001B[0m\u001B[0;34m\u001B[0m\u001B[0m\n\u001B[0m\u001B[1;32m   1624\u001B[0m             )\n\u001B[1;32m   1625\u001B[0m \u001B[0;34m\u001B[0m\u001B[0m\n",
      "\u001B[0;32m/usr/local/lib/python3.6/dist-packages/pandas/_testing.py\u001B[0m in \u001B[0;36massert_series_equal\u001B[0;34m(left, right, check_dtype, check_index_type, check_series_type, check_less_precise, check_names, check_exact, check_datetimelike_compat, check_categorical, check_category_order, check_freq, rtol, atol, obj)\u001B[0m\n\u001B[1;32m   1399\u001B[0m             \u001B[0mcheck_dtype\u001B[0m\u001B[0;34m=\u001B[0m\u001B[0mcheck_dtype\u001B[0m\u001B[0;34m,\u001B[0m\u001B[0;34m\u001B[0m\u001B[0;34m\u001B[0m\u001B[0m\n\u001B[1;32m   1400\u001B[0m             \u001B[0mobj\u001B[0m\u001B[0;34m=\u001B[0m\u001B[0mstr\u001B[0m\u001B[0;34m(\u001B[0m\u001B[0mobj\u001B[0m\u001B[0;34m)\u001B[0m\u001B[0;34m,\u001B[0m\u001B[0;34m\u001B[0m\u001B[0;34m\u001B[0m\u001B[0m\n\u001B[0;32m-> 1401\u001B[0;31m             \u001B[0mindex_values\u001B[0m\u001B[0;34m=\u001B[0m\u001B[0mnp\u001B[0m\u001B[0;34m.\u001B[0m\u001B[0masarray\u001B[0m\u001B[0;34m(\u001B[0m\u001B[0mleft\u001B[0m\u001B[0;34m.\u001B[0m\u001B[0mindex\u001B[0m\u001B[0;34m)\u001B[0m\u001B[0;34m,\u001B[0m\u001B[0;34m\u001B[0m\u001B[0;34m\u001B[0m\u001B[0m\n\u001B[0m\u001B[1;32m   1402\u001B[0m         )\n\u001B[1;32m   1403\u001B[0m \u001B[0;34m\u001B[0m\u001B[0m\n",
      "\u001B[0;32mpandas/_libs/testing.pyx\u001B[0m in \u001B[0;36mpandas._libs.testing.assert_almost_equal\u001B[0;34m()\u001B[0m\n",
      "\u001B[0;32mpandas/_libs/testing.pyx\u001B[0m in \u001B[0;36mpandas._libs.testing.assert_almost_equal\u001B[0;34m()\u001B[0m\n",
      "\u001B[0;32m/usr/local/lib/python3.6/dist-packages/pandas/_testing.py\u001B[0m in \u001B[0;36mraise_assert_detail\u001B[0;34m(obj, message, left, right, diff, index_values)\u001B[0m\n\u001B[1;32m   1034\u001B[0m         \u001B[0mmsg\u001B[0m \u001B[0;34m+=\u001B[0m \u001B[0;34mf\"\\n[diff]: {diff}\"\u001B[0m\u001B[0;34m\u001B[0m\u001B[0;34m\u001B[0m\u001B[0m\n\u001B[1;32m   1035\u001B[0m \u001B[0;34m\u001B[0m\u001B[0m\n\u001B[0;32m-> 1036\u001B[0;31m     \u001B[0;32mraise\u001B[0m \u001B[0mAssertionError\u001B[0m\u001B[0;34m(\u001B[0m\u001B[0mmsg\u001B[0m\u001B[0;34m)\u001B[0m\u001B[0;34m\u001B[0m\u001B[0;34m\u001B[0m\u001B[0m\n\u001B[0m\u001B[1;32m   1037\u001B[0m \u001B[0;34m\u001B[0m\u001B[0m\n\u001B[1;32m   1038\u001B[0m \u001B[0;34m\u001B[0m\u001B[0m\n",
      "\u001B[0;31mAssertionError\u001B[0m: DataFrame.iloc[:, 5] (column name=\"cause of death\") are different\n\nDataFrame.iloc[:, 5] (column name=\"cause of death\") values are different (78.06216 %)\n[index]: [0, 1, 2, 3, 4, 5, 6, 7, 8, 9, 10, 11, 12, 13, 14, 15, 16, 17, 18, 19, 20, 21, 22, 23, 24, 25, 26, 27, 28, 29, 30, 31, 32, 33, 34, 35, 36, 37, 38, 39, 40, 41, 42, 43, 44, 45, 46, 47, 48, 49, 50, 51, 52, 53, 54, 55, 56, 57, 58, 59, 60, 61, 62, 63, 64, 65, 66, 67, 68, 69, 70, 71, 72, 73, 74, 75, 76, 77, 78, 79, 80, 81, 82, 83, 84, 85, 86, 87, 88, 89, 90, 91, 92, 93, 94, 95, 96, 97, 98, 99, ...]\n[left]:  [ brain cancer,  cancer,  cancer,  complications of a stroke,  heart failure,  lung cancer, nan, nan, nan, nan, nan, nan, nan, nan, nan, nan, nan, nan, nan, nan,  cancer,  complications from a stroke,  complications from a stroke,  execution by beheading,  execution by beheading,  fall,  kidney failure,  pancreatic cancer,  pneumonia,  progressive supranuclear palsy,  shot, nan,  stabbed,  throat cancer, nan, nan, nan, nan, nan, nan, nan, nan, nan,  cancer,  pneumonia,  stroke,  suicide by gunshot, nan, nan, nan, nan, nan, nan, nan, nan, nan, nan, nan, nan, nan, nan, nan, nan, nan,  breast cancer,  heart attack,  heart attack,  heart failure,  heart failure,  prostate cancer,  respiratory failure,  suicide by jumping,  traffic collision, nan, nan, nan, nan, nan, nan, nan, nan, nan, nan, nan, nan, nan, nan, nan, nan, nan, nan, nan,  complications from surgery,  fall,  heart attack, nan, nan, nan, nan, nan, ...]\n[right]: [ brain cancer,  cancer,  cancer,  complications of a stroke,  heart failure,  lung cancer, nan, nan, nan, nan, nan, nan, nan, nan, nan, nan, nan, nan, nan, nan,  cancer,  complications from a stroke,  complications from a stroke,  execution by beheading,  execution by beheading,  fall,  kidney failure,  pancreatic cancer,  pneumonia,  progressive supranuclear palsy,  shot, nan,  stabbed,  throat cancer, nan, nan, nan, nan, nan, nan, nan, nan, nan,  cancer,  pneumonia,  stroke,  suicide by gunshot, nan, nan, nan, nan, nan, nan, nan, nan, nan, nan, nan, nan, nan, nan, nan, nan, nan,  breast cancer,  heart attack,  heart attack,  heart failure,  heart failure,  prostate cancer,  respiratory failure,  suicide by jumping,  traffic collision, nan, nan, nan, nan, nan, nan, nan, nan, nan, nan, nan, nan, nan, nan, nan, nan, nan, nan, nan,  complications from surgery,  fall,  heart attack, nan, nan, nan, nan, nan, ...]"
     ]
    }
   ],
   "source": [
    "##########################\n",
    "### TEST YOUR SOLUTION ###\n",
    "##########################\n",
    "\n",
    "assert_frame_equal(df_2016, sol.df_2016)"
   ]
  },
  {
   "cell_type": "code",
   "execution_count": 45,
   "metadata": {},
   "outputs": [
    {
     "data": {
      "text/html": [
       "<div>\n",
       "<style scoped>\n",
       "    .dataframe tbody tr th:only-of-type {\n",
       "        vertical-align: middle;\n",
       "    }\n",
       "\n",
       "    .dataframe tbody tr th {\n",
       "        vertical-align: top;\n",
       "    }\n",
       "\n",
       "    .dataframe thead th {\n",
       "        text-align: right;\n",
       "    }\n",
       "</style>\n",
       "<table border=\"1\" class=\"dataframe\">\n",
       "  <thead>\n",
       "    <tr style=\"text-align: right;\">\n",
       "      <th></th>\n",
       "      <th>date of death</th>\n",
       "      <th>name</th>\n",
       "      <th>age</th>\n",
       "      <th>bio</th>\n",
       "      <th>cause_id</th>\n",
       "      <th>cause of death</th>\n",
       "      <th>month</th>\n",
       "      <th>year</th>\n",
       "    </tr>\n",
       "  </thead>\n",
       "  <tbody>\n",
       "    <tr>\n",
       "      <th>0</th>\n",
       "      <td>2016-01-01</td>\n",
       "      <td>Tony Lane</td>\n",
       "      <td>71.0</td>\n",
       "      <td>American art director (Rolling Stone)</td>\n",
       "      <td>8915.0</td>\n",
       "      <td>brain cancer</td>\n",
       "      <td>1</td>\n",
       "      <td>2016</td>\n",
       "    </tr>\n",
       "    <tr>\n",
       "      <th>1</th>\n",
       "      <td>2016-01-01</td>\n",
       "      <td>Gilbert Kaplan</td>\n",
       "      <td>74.0</td>\n",
       "      <td>American conductor and businessman</td>\n",
       "      <td>2860.0</td>\n",
       "      <td>cancer</td>\n",
       "      <td>1</td>\n",
       "      <td>2016</td>\n",
       "    </tr>\n",
       "    <tr>\n",
       "      <th>2</th>\n",
       "      <td>2016-01-01</td>\n",
       "      <td>Brian Johns</td>\n",
       "      <td>79.0</td>\n",
       "      <td>Australian company director, managing director...</td>\n",
       "      <td>2860.0</td>\n",
       "      <td>cancer</td>\n",
       "      <td>1</td>\n",
       "      <td>2016</td>\n",
       "    </tr>\n",
       "    <tr>\n",
       "      <th>3</th>\n",
       "      <td>2016-01-01</td>\n",
       "      <td>Natasha Aguilar</td>\n",
       "      <td>45.0</td>\n",
       "      <td>Costa Rican swimmer, silver and bronze medalis...</td>\n",
       "      <td>33897.0</td>\n",
       "      <td>complications of a stroke</td>\n",
       "      <td>1</td>\n",
       "      <td>2016</td>\n",
       "    </tr>\n",
       "    <tr>\n",
       "      <th>4</th>\n",
       "      <td>2016-01-01</td>\n",
       "      <td>Fazu Aliyeva</td>\n",
       "      <td>83.0</td>\n",
       "      <td>Russian Avar poet and journalist</td>\n",
       "      <td>10648.0</td>\n",
       "      <td>heart failure</td>\n",
       "      <td>1</td>\n",
       "      <td>2016</td>\n",
       "    </tr>\n",
       "    <tr>\n",
       "      <th>...</th>\n",
       "      <td>...</td>\n",
       "      <td>...</td>\n",
       "      <td>...</td>\n",
       "      <td>...</td>\n",
       "      <td>...</td>\n",
       "      <td>...</td>\n",
       "      <td>...</td>\n",
       "      <td>...</td>\n",
       "    </tr>\n",
       "    <tr>\n",
       "      <th>6559</th>\n",
       "      <td>2016-12-31</td>\n",
       "      <td>Peter Fernando</td>\n",
       "      <td>77.0</td>\n",
       "      <td>Indian Roman Catholic prelate, Bishop of Tutic...</td>\n",
       "      <td>NaN</td>\n",
       "      <td>NaN</td>\n",
       "      <td>12</td>\n",
       "      <td>2016</td>\n",
       "    </tr>\n",
       "    <tr>\n",
       "      <th>6560</th>\n",
       "      <td>2016-12-31</td>\n",
       "      <td>Manjurul Islam Liton</td>\n",
       "      <td>48.0</td>\n",
       "      <td>Bangladeshi politician</td>\n",
       "      <td>NaN</td>\n",
       "      <td>NaN</td>\n",
       "      <td>12</td>\n",
       "      <td>2016</td>\n",
       "    </tr>\n",
       "    <tr>\n",
       "      <th>6561</th>\n",
       "      <td>2016-12-31</td>\n",
       "      <td>David Meltzer</td>\n",
       "      <td>79.0</td>\n",
       "      <td>American poet and musician.</td>\n",
       "      <td>NaN</td>\n",
       "      <td>NaN</td>\n",
       "      <td>12</td>\n",
       "      <td>2016</td>\n",
       "    </tr>\n",
       "    <tr>\n",
       "      <th>6562</th>\n",
       "      <td>2016-12-31</td>\n",
       "      <td>Prince Dimitri Romanov</td>\n",
       "      <td>90.0</td>\n",
       "      <td>Russian prince, banker, philanthropist, and au...</td>\n",
       "      <td>NaN</td>\n",
       "      <td>NaN</td>\n",
       "      <td>12</td>\n",
       "      <td>2016</td>\n",
       "    </tr>\n",
       "    <tr>\n",
       "      <th>6563</th>\n",
       "      <td>2016-12-31</td>\n",
       "      <td>Robert Taussat</td>\n",
       "      <td>96.0</td>\n",
       "      <td>French historian and author.</td>\n",
       "      <td>NaN</td>\n",
       "      <td>NaN</td>\n",
       "      <td>12</td>\n",
       "      <td>2016</td>\n",
       "    </tr>\n",
       "  </tbody>\n",
       "</table>\n",
       "<p>6564 rows × 8 columns</p>\n",
       "</div>"
      ],
      "text/plain": [
       "     date of death                    name   age  \\\n",
       "0       2016-01-01               Tony Lane  71.0   \n",
       "1       2016-01-01          Gilbert Kaplan  74.0   \n",
       "2       2016-01-01             Brian Johns  79.0   \n",
       "3       2016-01-01         Natasha Aguilar  45.0   \n",
       "4       2016-01-01            Fazu Aliyeva  83.0   \n",
       "...            ...                     ...   ...   \n",
       "6559    2016-12-31          Peter Fernando  77.0   \n",
       "6560    2016-12-31    Manjurul Islam Liton  48.0   \n",
       "6561    2016-12-31           David Meltzer  79.0   \n",
       "6562    2016-12-31  Prince Dimitri Romanov  90.0   \n",
       "6563    2016-12-31          Robert Taussat  96.0   \n",
       "\n",
       "                                                    bio  cause_id  \\\n",
       "0                 American art director (Rolling Stone)    8915.0   \n",
       "1                    American conductor and businessman    2860.0   \n",
       "2     Australian company director, managing director...    2860.0   \n",
       "3     Costa Rican swimmer, silver and bronze medalis...   33897.0   \n",
       "4                      Russian Avar poet and journalist   10648.0   \n",
       "...                                                 ...       ...   \n",
       "6559  Indian Roman Catholic prelate, Bishop of Tutic...       NaN   \n",
       "6560                             Bangladeshi politician       NaN   \n",
       "6561                        American poet and musician.       NaN   \n",
       "6562  Russian prince, banker, philanthropist, and au...       NaN   \n",
       "6563                       French historian and author.       NaN   \n",
       "\n",
       "                  cause of death  month  year  \n",
       "0                   brain cancer      1  2016  \n",
       "1                         cancer      1  2016  \n",
       "2                         cancer      1  2016  \n",
       "3      complications of a stroke      1  2016  \n",
       "4                  heart failure      1  2016  \n",
       "...                          ...    ...   ...  \n",
       "6559                         NaN     12  2016  \n",
       "6560                         NaN     12  2016  \n",
       "6561                         NaN     12  2016  \n",
       "6562                         NaN     12  2016  \n",
       "6563                         NaN     12  2016  \n",
       "\n",
       "[6564 rows x 8 columns]"
      ]
     },
     "execution_count": 45,
     "metadata": {},
     "output_type": "execute_result"
    }
   ],
   "source": [
    "sol.df_2016"
   ]
  },
  {
   "cell_type": "code",
   "execution_count": 77,
   "metadata": {
    "deletable": false,
    "nbgrader": {
     "checksum": "aeee35238abf09aa7757ea1560db26be",
     "grade": false,
     "grade_id": "q19",
     "locked": false,
     "schema_version": 1,
     "solution": true
    }
   },
   "outputs": [
    {
     "data": {
      "text/html": [
       "<div>\n",
       "<style scoped>\n",
       "    .dataframe tbody tr th:only-of-type {\n",
       "        vertical-align: middle;\n",
       "    }\n",
       "\n",
       "    .dataframe tbody tr th {\n",
       "        vertical-align: top;\n",
       "    }\n",
       "\n",
       "    .dataframe thead th {\n",
       "        text-align: right;\n",
       "    }\n",
       "</style>\n",
       "<table border=\"1\" class=\"dataframe\">\n",
       "  <thead>\n",
       "    <tr style=\"text-align: right;\">\n",
       "      <th></th>\n",
       "      <th>namelen</th>\n",
       "    </tr>\n",
       "    <tr>\n",
       "      <th>month</th>\n",
       "      <th></th>\n",
       "    </tr>\n",
       "  </thead>\n",
       "  <tbody>\n",
       "    <tr>\n",
       "      <th>1</th>\n",
       "      <td>671</td>\n",
       "    </tr>\n",
       "    <tr>\n",
       "      <th>2</th>\n",
       "      <td>557</td>\n",
       "    </tr>\n",
       "    <tr>\n",
       "      <th>3</th>\n",
       "      <td>636</td>\n",
       "    </tr>\n",
       "    <tr>\n",
       "      <th>4</th>\n",
       "      <td>542</td>\n",
       "    </tr>\n",
       "    <tr>\n",
       "      <th>5</th>\n",
       "      <td>537</td>\n",
       "    </tr>\n",
       "    <tr>\n",
       "      <th>6</th>\n",
       "      <td>531</td>\n",
       "    </tr>\n",
       "    <tr>\n",
       "      <th>7</th>\n",
       "      <td>544</td>\n",
       "    </tr>\n",
       "    <tr>\n",
       "      <th>8</th>\n",
       "      <td>517</td>\n",
       "    </tr>\n",
       "    <tr>\n",
       "      <th>9</th>\n",
       "      <td>498</td>\n",
       "    </tr>\n",
       "    <tr>\n",
       "      <th>10</th>\n",
       "      <td>511</td>\n",
       "    </tr>\n",
       "    <tr>\n",
       "      <th>11</th>\n",
       "      <td>508</td>\n",
       "    </tr>\n",
       "    <tr>\n",
       "      <th>12</th>\n",
       "      <td>522</td>\n",
       "    </tr>\n",
       "  </tbody>\n",
       "</table>\n",
       "</div>"
      ],
      "text/plain": [
       "       namelen\n",
       "month         \n",
       "1          671\n",
       "2          557\n",
       "3          636\n",
       "4          542\n",
       "5          537\n",
       "6          531\n",
       "7          544\n",
       "8          517\n",
       "9          498\n",
       "10         511\n",
       "11         508\n",
       "12         522"
      ]
     },
     "execution_count": 77,
     "metadata": {},
     "output_type": "execute_result"
    }
   ],
   "source": [
    "\"\"\" 19.\n",
    "Using a pivot table, obtain a list that contains the number of people that died in each month\n",
    "-- Use the new DataFrame \"df_2016\"\n",
    "-- Name the result as \"df_per_month\"\n",
    "\"\"\"\n",
    "# YOUR CODE HERE\n",
    "df_per_month['namelen'] = pd.pivot_table(df, index=\"month\", values=\"name\",aggfunc=\"count\")\n",
    "\n",
    "#df_per_month = df_2016.pivot_table(index=\"month\",values=\"name\", aggfunc=\"count\")\n",
    "df_per_month "
   ]
  },
  {
   "cell_type": "code",
   "execution_count": 78,
   "metadata": {
    "deletable": false,
    "editable": false,
    "nbgrader": {
     "checksum": "e5016bc3a3f7877d9eb2742ffc0fa916",
     "grade": true,
     "grade_id": "q19_test",
     "locked": true,
     "points": 2,
     "schema_version": 1,
     "solution": false
    }
   },
   "outputs": [
    {
     "ename": "AssertionError",
     "evalue": "DataFrame.iloc[:, 0] (column name=\"namelen\") are different\n\nDataFrame.iloc[:, 0] (column name=\"namelen\") values are different (66.66667 %)\n[index]: [1, 2, 3, 4, 5, 6, 7, 8, 9, 10, 11, 12]\n[left]:  [671, 557, 636, 542, 537, 531, 544, 517, 498, 511, 508, 522]\n[right]: [669, 556, 636, 540, 536, 530, 543, 517, 497, 511, 507, 522]",
     "output_type": "error",
     "traceback": [
      "\u001B[0;31m---------------------------------------------------------------------------\u001B[0m",
      "\u001B[0;31mAssertionError\u001B[0m                            Traceback (most recent call last)",
      "\u001B[0;32m<ipython-input-78-a02688fe0f1c>\u001B[0m in \u001B[0;36m<module>\u001B[0;34m()\u001B[0m\n\u001B[1;32m      9\u001B[0m \u001B[0mdf_sol\u001B[0m\u001B[0;34m.\u001B[0m\u001B[0mcolumns\u001B[0m \u001B[0;34m=\u001B[0m \u001B[0;34m[\u001B[0m\u001B[0;34m'namelen'\u001B[0m\u001B[0;34m]\u001B[0m\u001B[0;34m\u001B[0m\u001B[0;34m\u001B[0m\u001B[0m\n\u001B[1;32m     10\u001B[0m \u001B[0;34m\u001B[0m\u001B[0m\n\u001B[0;32m---> 11\u001B[0;31m \u001B[0massert_frame_equal\u001B[0m\u001B[0;34m(\u001B[0m\u001B[0mdf_sub\u001B[0m\u001B[0;34m,\u001B[0m \u001B[0mdf_sol\u001B[0m\u001B[0;34m)\u001B[0m\u001B[0;34m\u001B[0m\u001B[0;34m\u001B[0m\u001B[0m\n\u001B[0m",
      "\u001B[0;32m/usr/local/lib/python3.6/dist-packages/pandas/_testing.py\u001B[0m in \u001B[0;36massert_frame_equal\u001B[0;34m(left, right, check_dtype, check_index_type, check_column_type, check_frame_type, check_less_precise, check_names, by_blocks, check_exact, check_datetimelike_compat, check_categorical, check_like, check_freq, rtol, atol, obj)\u001B[0m\n\u001B[1;32m   1621\u001B[0m                 \u001B[0mobj\u001B[0m\u001B[0;34m=\u001B[0m\u001B[0;34mf'{obj}.iloc[:, {i}] (column name=\"{col}\")'\u001B[0m\u001B[0;34m,\u001B[0m\u001B[0;34m\u001B[0m\u001B[0;34m\u001B[0m\u001B[0m\n\u001B[1;32m   1622\u001B[0m                 \u001B[0mrtol\u001B[0m\u001B[0;34m=\u001B[0m\u001B[0mrtol\u001B[0m\u001B[0;34m,\u001B[0m\u001B[0;34m\u001B[0m\u001B[0;34m\u001B[0m\u001B[0m\n\u001B[0;32m-> 1623\u001B[0;31m                 \u001B[0matol\u001B[0m\u001B[0;34m=\u001B[0m\u001B[0matol\u001B[0m\u001B[0;34m,\u001B[0m\u001B[0;34m\u001B[0m\u001B[0;34m\u001B[0m\u001B[0m\n\u001B[0m\u001B[1;32m   1624\u001B[0m             )\n\u001B[1;32m   1625\u001B[0m \u001B[0;34m\u001B[0m\u001B[0m\n",
      "\u001B[0;32m/usr/local/lib/python3.6/dist-packages/pandas/_testing.py\u001B[0m in \u001B[0;36massert_series_equal\u001B[0;34m(left, right, check_dtype, check_index_type, check_series_type, check_less_precise, check_names, check_exact, check_datetimelike_compat, check_categorical, check_category_order, check_freq, rtol, atol, obj)\u001B[0m\n\u001B[1;32m   1399\u001B[0m             \u001B[0mcheck_dtype\u001B[0m\u001B[0;34m=\u001B[0m\u001B[0mcheck_dtype\u001B[0m\u001B[0;34m,\u001B[0m\u001B[0;34m\u001B[0m\u001B[0;34m\u001B[0m\u001B[0m\n\u001B[1;32m   1400\u001B[0m             \u001B[0mobj\u001B[0m\u001B[0;34m=\u001B[0m\u001B[0mstr\u001B[0m\u001B[0;34m(\u001B[0m\u001B[0mobj\u001B[0m\u001B[0;34m)\u001B[0m\u001B[0;34m,\u001B[0m\u001B[0;34m\u001B[0m\u001B[0;34m\u001B[0m\u001B[0m\n\u001B[0;32m-> 1401\u001B[0;31m             \u001B[0mindex_values\u001B[0m\u001B[0;34m=\u001B[0m\u001B[0mnp\u001B[0m\u001B[0;34m.\u001B[0m\u001B[0masarray\u001B[0m\u001B[0;34m(\u001B[0m\u001B[0mleft\u001B[0m\u001B[0;34m.\u001B[0m\u001B[0mindex\u001B[0m\u001B[0;34m)\u001B[0m\u001B[0;34m,\u001B[0m\u001B[0;34m\u001B[0m\u001B[0;34m\u001B[0m\u001B[0m\n\u001B[0m\u001B[1;32m   1402\u001B[0m         )\n\u001B[1;32m   1403\u001B[0m \u001B[0;34m\u001B[0m\u001B[0m\n",
      "\u001B[0;32mpandas/_libs/testing.pyx\u001B[0m in \u001B[0;36mpandas._libs.testing.assert_almost_equal\u001B[0;34m()\u001B[0m\n",
      "\u001B[0;32mpandas/_libs/testing.pyx\u001B[0m in \u001B[0;36mpandas._libs.testing.assert_almost_equal\u001B[0;34m()\u001B[0m\n",
      "\u001B[0;32m/usr/local/lib/python3.6/dist-packages/pandas/_testing.py\u001B[0m in \u001B[0;36mraise_assert_detail\u001B[0;34m(obj, message, left, right, diff, index_values)\u001B[0m\n\u001B[1;32m   1034\u001B[0m         \u001B[0mmsg\u001B[0m \u001B[0;34m+=\u001B[0m \u001B[0;34mf\"\\n[diff]: {diff}\"\u001B[0m\u001B[0;34m\u001B[0m\u001B[0;34m\u001B[0m\u001B[0m\n\u001B[1;32m   1035\u001B[0m \u001B[0;34m\u001B[0m\u001B[0m\n\u001B[0;32m-> 1036\u001B[0;31m     \u001B[0;32mraise\u001B[0m \u001B[0mAssertionError\u001B[0m\u001B[0;34m(\u001B[0m\u001B[0mmsg\u001B[0m\u001B[0;34m)\u001B[0m\u001B[0;34m\u001B[0m\u001B[0;34m\u001B[0m\u001B[0m\n\u001B[0m\u001B[1;32m   1037\u001B[0m \u001B[0;34m\u001B[0m\u001B[0m\n\u001B[1;32m   1038\u001B[0m \u001B[0;34m\u001B[0m\u001B[0m\n",
      "\u001B[0;31mAssertionError\u001B[0m: DataFrame.iloc[:, 0] (column name=\"namelen\") are different\n\nDataFrame.iloc[:, 0] (column name=\"namelen\") values are different (66.66667 %)\n[index]: [1, 2, 3, 4, 5, 6, 7, 8, 9, 10, 11, 12]\n[left]:  [671, 557, 636, 542, 537, 531, 544, 517, 498, 511, 508, 522]\n[right]: [669, 556, 636, 540, 536, 530, 543, 517, 497, 511, 507, 522]"
     ]
    }
   ],
   "source": [
    "##########################\n",
    "### TEST YOUR SOLUTION ###\n",
    "##########################\n",
    "\n",
    "df_sub = df_per_month\n",
    "df_sol = sol.df_per_month\n",
    "\n",
    "df_sub.columns = ['namelen']\n",
    "df_sol.columns = ['namelen'] \n",
    "\n",
    "assert_frame_equal(df_sub, df_sol)\n"
   ]
  },
  {
   "cell_type": "code",
   "execution_count": 48,
   "metadata": {},
   "outputs": [
    {
     "data": {
      "text/html": [
       "<div>\n",
       "<style scoped>\n",
       "    .dataframe tbody tr th:only-of-type {\n",
       "        vertical-align: middle;\n",
       "    }\n",
       "\n",
       "    .dataframe tbody tr th {\n",
       "        vertical-align: top;\n",
       "    }\n",
       "\n",
       "    .dataframe thead th {\n",
       "        text-align: right;\n",
       "    }\n",
       "</style>\n",
       "<table border=\"1\" class=\"dataframe\">\n",
       "  <thead>\n",
       "    <tr style=\"text-align: right;\">\n",
       "      <th></th>\n",
       "      <th>namelen</th>\n",
       "    </tr>\n",
       "    <tr>\n",
       "      <th>month</th>\n",
       "      <th></th>\n",
       "    </tr>\n",
       "  </thead>\n",
       "  <tbody>\n",
       "    <tr>\n",
       "      <th>1</th>\n",
       "      <td>669</td>\n",
       "    </tr>\n",
       "    <tr>\n",
       "      <th>2</th>\n",
       "      <td>556</td>\n",
       "    </tr>\n",
       "    <tr>\n",
       "      <th>3</th>\n",
       "      <td>636</td>\n",
       "    </tr>\n",
       "    <tr>\n",
       "      <th>4</th>\n",
       "      <td>540</td>\n",
       "    </tr>\n",
       "    <tr>\n",
       "      <th>5</th>\n",
       "      <td>536</td>\n",
       "    </tr>\n",
       "    <tr>\n",
       "      <th>6</th>\n",
       "      <td>530</td>\n",
       "    </tr>\n",
       "    <tr>\n",
       "      <th>7</th>\n",
       "      <td>543</td>\n",
       "    </tr>\n",
       "    <tr>\n",
       "      <th>8</th>\n",
       "      <td>517</td>\n",
       "    </tr>\n",
       "    <tr>\n",
       "      <th>9</th>\n",
       "      <td>497</td>\n",
       "    </tr>\n",
       "    <tr>\n",
       "      <th>10</th>\n",
       "      <td>511</td>\n",
       "    </tr>\n",
       "    <tr>\n",
       "      <th>11</th>\n",
       "      <td>507</td>\n",
       "    </tr>\n",
       "    <tr>\n",
       "      <th>12</th>\n",
       "      <td>522</td>\n",
       "    </tr>\n",
       "  </tbody>\n",
       "</table>\n",
       "</div>"
      ],
      "text/plain": [
       "       namelen\n",
       "month         \n",
       "1          669\n",
       "2          556\n",
       "3          636\n",
       "4          540\n",
       "5          536\n",
       "6          530\n",
       "7          543\n",
       "8          517\n",
       "9          497\n",
       "10         511\n",
       "11         507\n",
       "12         522"
      ]
     },
     "execution_count": 48,
     "metadata": {},
     "output_type": "execute_result"
    }
   ],
   "source": [
    "df_sol"
   ]
  },
  {
   "cell_type": "markdown",
   "metadata": {
    "deletable": false,
    "editable": false,
    "nbgrader": {
     "checksum": "2fa185ef7d354f4eee499389f0fb1afe",
     "grade": false,
     "grade_id": "cell-afc6e10559ca39ce",
     "locked": true,
     "schema_version": 1,
     "solution": false
    }
   },
   "source": [
    "### Data Visualization"
   ]
  },
  {
   "cell_type": "code",
   "execution_count": 49,
   "metadata": {
    "deletable": false,
    "nbgrader": {
     "checksum": "9551c9d25094f6e66be316b14841d390",
     "grade": false,
     "grade_id": "q20",
     "locked": false,
     "schema_version": 1,
     "solution": true
    }
   },
   "outputs": [
    {
     "data": {
      "image/png": "[encoded data removed]",
      "text/plain": [
       "<Figure size 1008x576 with 1 Axes>"
      ]
     },
     "metadata": {
      "needs_background": "light"
     },
     "output_type": "display_data"
    }
   ],
   "source": [
    "\"\"\" 20. \n",
    "Visualize the number of deaths per month as a bar chart\n",
    "\n",
    "Hint: A DataFrame has a simple .plot() method you can use.  \n",
    "\n",
    "The x axis should show the individual number of the month and the y axis should show the death counts\n",
    "Don't forget to add a title and labels for the x and y axes\n",
    "\"\"\"\n",
    "\n",
    "# YOUR CODE HERE\n",
    "ax = df['month'].value_counts().plot(kind='bar',figsize=(14,8),title=\"Deaths per month\") \n",
    "ax.set_xlabel(\"Month\") \n",
    "ax.set_ylabel(\"Deaths\")\n",
    "\n",
    "\n",
    "###########################\n",
    "### DO NOT MODIFY THIS! ###\n",
    "plt.show()\n",
    "###########################"
   ]
  },
  {
   "cell_type": "markdown",
   "metadata": {
    "deletable": false,
    "editable": false,
    "nbgrader": {
     "checksum": "22838ac2bbc3baa7f5ef893d0952e5aa",
     "grade": false,
     "grade_id": "cell-534be1dfb9069a73",
     "locked": true,
     "schema_version": 1,
     "solution": false
    }
   },
   "source": [
    "### Make a bar chart that plots the number of deaths per nationality\n",
    "1. Create a new column that identifies the nationality of each celebrity, extracting the first word from the bio\n",
    "2. Make a bar chart that plots the number of deaths per nationality"
   ]
  },
  {
   "cell_type": "code",
   "execution_count": 50,
   "metadata": {
    "deletable": false,
    "nbgrader": {
     "checksum": "53f99bbe1b9b73ea02a4a5d518141be7",
     "grade": false,
     "grade_id": "q21",
     "locked": false,
     "schema_version": 1,
     "solution": true
    }
   },
   "outputs": [],
   "source": [
    "\"\"\" 21.\n",
    "Create a new column in the DataFrame df that identifies the nationality of each celebrity, \n",
    "extracting the first word from the bio\n",
    "\n",
    "Hint:\n",
    "To get the nationality from the bio, use the method split() on the column \"bio\" \n",
    "and use the first element in the split result as the nationality.\n",
    "\n",
    "For simplicity purposes, don't worry about nationalities containing more than 1 word.  For example, \n",
    "when getting the nationality from \"bio\", it's OK to get \"New\" for New Zealand or \"Costa\" for Costa Rican.\n",
    "\"\"\"\n",
    "\n",
    "def get_nationality(bio):   #(pass)\n",
    "    return bio.split()[0]\n",
    "\n",
    "df[\"nationality\"] = df[\"bio\"].apply(get_nationality)"
   ]
  },
  {
   "cell_type": "code",
   "execution_count": 51,
   "metadata": {
    "deletable": false,
    "editable": false,
    "nbgrader": {
     "checksum": "13bd4c9d95eea15e5d77b33e63a1c5d3",
     "grade": true,
     "grade_id": "q21_test",
     "locked": true,
     "points": 2,
     "schema_version": 1,
     "solution": false
    }
   },
   "outputs": [],
   "source": [
    "##########################\n",
    "### TEST YOUR SOLUTION ###\n",
    "##########################\n",
    "\n",
    "assert_series_equal(df['nationality'], sol.df['nationality'])"
   ]
  },
  {
   "cell_type": "code",
   "execution_count": 88,
   "metadata": {
    "deletable": false,
    "nbgrader": {
     "checksum": "2e1662d18d24f592ed23558ae73f531c",
     "grade": false,
     "grade_id": "q22",
     "locked": false,
     "schema_version": 1,
     "solution": true
    }
   },
   "outputs": [
    {
     "data": {
      "image/png": "[encoded data removed]",
      "text/plain": [
       "<Figure size 1008x576 with 1 Axes>"
      ]
     },
     "metadata": {
      "needs_background": "light"
     },
     "output_type": "display_data"
    }
   ],
   "source": [
    "\"\"\" 22.\n",
    "Make a bar chart that plots the number of deaths per nationality\n",
    "Only include nationalities with more than 50 deaths\n",
    "-- Name the resulting Series as \"unlucky_countries\"\n",
    "Hint(s):\n",
    "Get the count of unique values in the 'nationality' column using the value_counts() method.\n",
    "Filter the resulting Series to only include those nationalities with a count of more than 50.\n",
    "Plot the final Series.  Note, a Series has a simple .plot() method you can use.\n",
    "The x axis should show the individual nationalities and the y axis should show the death counts\n",
    "Don't forget to add a title and labels for the x and y axis\n",
    "\"\"\"\n",
    "# YOUR CODE HERE\n",
    "CountStatus = pd.value_counts(df['nationality'].values, sort=True)\n",
    "unlucky_countries= CountStatus.loc[lambda x: x > 50] \n",
    "ax = unlucky_countries.plot(kind='bar',figsize=(14,8),title=\"Deaths per country\")\n",
    "ax.set_xlabel(\"Country\") \n",
    "ax.set_ylabel(\"Deaths\")\n",
    "\n",
    "\n",
    "plt.plot()\n",
    "\n",
    "\n",
    "\n",
    "\n",
    "\n",
    "###########################\n",
    "### DO NOT MODIFY THIS! ###\n",
    "plt.show()\n",
    "###########################"
   ]
  },
  {
   "cell_type": "code",
   "execution_count": 1,
   "metadata": {},
   "outputs": [],
   "source": [
    "\n",
    "import pandas as pd     \n",
    "import numpy as np\n",
    "from matplotlib import pyplot as plt    \n",
    "\n"
   ]
  },
  {
   "cell_type": "code",
   "execution_count": null,
   "metadata": {},
   "outputs": [],
   "source": []
  }
 ],
 "metadata": {
  "anaconda-cloud": {},
  "kernelspec": {
   "display_name": "Python 3.9.13 ('geospatial')",
   "language": "python",
   "name": "python3"
  },
  "language_info": {
   "codemirror_mode": {
    "name": "ipython",
    "version": 3
   },
   "file_extension": ".py",
   "mimetype": "text/x-python",
   "name": "python",
   "nbconvert_exporter": "python",
   "pygments_lexer": "ipython3",
   "version": "3.9.13"
  },
  "vscode": {
   "interpreter": {
    "hash": "e9c1a0602018427381703a8b1bc70fc74c72b44a8c801af75b7bc3d317559bc0"
   }
  }
 },
 "nbformat": 4,
 "nbformat_minor": 1
}
